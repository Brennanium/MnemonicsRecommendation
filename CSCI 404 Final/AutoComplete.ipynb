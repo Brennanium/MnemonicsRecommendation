{
 "metadata": {
  "language_info": {
   "codemirror_mode": {
    "name": "ipython",
    "version": 3
   },
   "file_extension": ".py",
   "mimetype": "text/x-python",
   "name": "python",
   "nbconvert_exporter": "python",
   "pygments_lexer": "ipython3",
   "version": "3.9.5"
  },
  "orig_nbformat": 2,
  "kernelspec": {
   "name": "python395jvsc74a57bd0dfe826cd0d2d16f756ef7ed973ea241894d65ce5c79e0af9a86738d25b9b6c6c",
   "display_name": "Python 3.9.5 64-bit ('CSCI_404_Final-Yi1LWMfq': venv)"
  }
 },
 "nbformat": 4,
 "nbformat_minor": 2,
 "cells": [
  {
   "cell_type": "code",
   "execution_count": 1,
   "metadata": {},
   "outputs": [],
   "source": [
    "import nltk\n",
    "from collections import Counter, defaultdict\n",
    "import heapq\n",
    "from operator import itemgetter, attrgetter, methodcaller\n",
    "from nltk.corpus import arcosg"
   ]
  },
  {
   "cell_type": "code",
   "execution_count": 2,
   "metadata": {},
   "outputs": [
    {
     "output_type": "stream",
     "name": "stdout",
     "text": [
      "87040\n"
     ]
    }
   ],
   "source": [
    "from lexpy.trie import Trie\n",
    "\n",
    "trie = Trie()\n",
    "\n",
    "trie.add_all([w for w in arcosg.words()])\n",
    "\n",
    "print(trie.get_word_count())"
   ]
  },
  {
   "cell_type": "code",
   "execution_count": 3,
   "metadata": {},
   "outputs": [
    {
     "output_type": "stream",
     "name": "stdout",
     "text": [
      "[('an-dràst', 2), ('an-dràsta', 17), ('an-dràsd', 1), ('an-dràsda', 24)]\n[('an-dràst', 2), ('an-dràsta', 17), ('an-dràsd', 1), ('an-dràsda', 24), ('an_dràsda', 9), ('an_dràsta', 2)]\n"
     ]
    }
   ],
   "source": [
    "print(trie.search_with_prefix('an-dr',with_count=True))\n",
    "print(trie.search('an?dr*',with_count=True))"
   ]
  },
  {
   "cell_type": "code",
   "execution_count": 4,
   "metadata": {},
   "outputs": [
    {
     "output_type": "stream",
     "name": "stdout",
     "text": [
      "[('an-diugh', 76), ('an-dràst', 2), ('an-dràsta', 17), ('an-dràsd', 1), ('an-dràsda', 24), ('an-dè', 14), ('an-dé', 3), ('an-raoir', 5), ('an-nochd', 3), ('an-nise', 1), ('an-àbhaisteach', 2), ('an-àrda', 1), ('an-àird', 5), ('an-àirde', 2), ('an-uiridh', 4)]\n"
     ]
    }
   ],
   "source": [
    "print(trie.search_with_prefix('an-',with_count=True))"
   ]
  },
  {
   "cell_type": "code",
   "execution_count": 6,
   "metadata": {
    "tags": []
   },
   "outputs": [
    {
     "output_type": "stream",
     "name": "stdout",
     "text": [
      "h', 1), ('Port_Rìgh', 4), ('Port_Nis', 1), ('Porterfields', 1), ('Poly', 1), ('Poilis', 4), ('Power', 1), ('Phlato', 1), ('Phort-righ', 1), ('Phort_Rìgh', 1), ('Phearsain', 2), ('Pheebles', 1), ('Phrobhaist', 1), ('Phuist', 2), ('Phàrtaidh', 2), ('Phàrlamaid', 21), ('Phàpa', 1), ('Phaddy', 1), ('Phaibeil', 1), ('Phinochet', 1), ('Pàdruig', 1), ('Pàdraig', 3), ('Pàrlamaid', 22), ('Pàrtaidh', 4), ('Pàrras', 1), ('Pàislig', 1), (\"Pàirc'_a'_Bhught\", 1), (\"Pàp'\", 1), ('Prìomh', 2), ('Prìomhaire', 1), ('Prìosan', 1), ('Prògram', 1), ('Prionnsa', 1), ('Pòil', 1), ('Pòl', 3), ('Pòlais', 1), ('Pòsadh', 1), ('PR', 2), ('Pict', 1), ('PEI', 2), ('C', 1), ('Cairteal', 1), ('Cairistìona', 1), ('Caimbeul', 8), ('Caimbeulach', 2), ('Caimbeulaich', 3), ('Caisteal', 3), ('Caismeachd', 1), ('Caillidh', 1), ('Cailean', 3), ('Caitligeach', 1), ('Caitligich', 2), ('Carl', 1), ('Carlsboro', 1), ('Carson', 3), ('Carstairs', 2), ('Carrington', 1), ('Carmylie', 1), ('Car_son', 4), ('Carol', 1), ('Campbell', 1), ('Cameron', 1), ('Camshron', 1), ('Camshronaich', 1), ('Can', 2), ('Canada', 2), ('Catrìona', 5), ('Cath', 1), ('Cathair', 1), ('Cathaidh', 1), ('Cathal', 1), ('Cataibh', 4), ('Caol', 2), ('Caol_Acainn', 1), ('Caol_na_Hearadh', 1), ('Caolas_Bharraigh', 1), ('Calum', 6), ('Calmac', 1), ('California', 1), (\"Caledonian_Mac_a'_Bhruthain\", 1), (\"Caledonian_Mac_a'_Bhruthainn\", 1), ('Cal-Mac', 2), ('CalMac', 3), ('Casablanca', 1), ('Castlemilk', 1), ('Captain', 2), ('Cabhsair', 1), ('Celsius', 1), ('Celtic', 4), ('Celtic_Park', 1), ('Ceud', 1), ('Ceatharnach', 1), ('Ceann_a_tuath', 2), ('Ceann_a_deas_Amearagaidh', 1), (\"Ceann_a'_Bhàigh\", 2), ('Ceann_a’_Ghàrraidh', 1), ('Ceann_Loch_Lìobhann', 1), ('Ceann_Loch_Chill_Chiarain', 1), ('Ceann_Loch_Cill_Chiarain', 1), ('Ceann_Tàil', 1), ('Ceannadach', 7), ('Ceannard', 1), ('Ceangal', 1), ('Ceanglaidh', 1), ('Ceàrdaich', 8), ('Ceilteach', 5), ('Ceiltich', 4), ('Centre', 1), ('Chàrnain', 1), ('Chàrnaich', 1), ('Chàirinis', 4), ('Chlachan', 1), ('Chlachair', 1), ('Chlann', 1), ('Chladaich', 2), ('Chladhaich', 1), ('Chliob', 1), ('Chloinn', 4), ('Chlò', 1), ('Cha', 89), ('Chan', 60), ('Chanainn', 1), ('Chaidh', 75), ('Chaisteal', 2), ('Chaisteil', 1), ('Chaimbeulach', 1), ('Chailleadh', 1), ('Chaiginn', 1), ('Chairistìona', 1), ('Chaitligich', 2), ('Chaitligeach', 1), ('Chaolas_Mhór', 1), ('Chaolas_Bharraigh', 1), ('Chaol_Arcaich', 1), ('Chaoilriabhaigh', 1), ('Chaochail', 3), ('Chatrìona', 1), ('Chaluim', 1), ('Chalum', 1), (\"Chaledonian_Mhic_a'_Bhruthainn\", 2), (\"Chaledonian_Mac_a'_Bhruthain\", 1), (\"Chaledonian_Mac_a'_Bhruthainn\", 3), (\"Chaledoniain_Mhic_a'_Bhruthainn\", 1), ('Charles', 1), ('Charstairs', 2), ('Chapman', 1), ('Chù', 1), ('Chùpair', 3), ('Chùil-Lodair', 1), ('Chùm', 4), ('Chùbair', 1), ('Chùbhair', 1), ('Cho', 1), ('Choisich', 1), ('Choimhead', 1), ('Choimhearsnachd', 1), ('Choimisiún', 1), ('Choinnich', 5), ('Choire', 3), ('Choice', 1), ('Choitchinn', 1), ('Choke', 1), ('Chogadh', 2), ('Chogaidh', 3), ('Chorrain', 1), ('Chorporra', 1), ('Chomhairle', 7), ('Chomataidh', 2), ('Chomann', 1), ('Chosg', 2), ('Chosgadh', 1), ('Chosobho', 2), ('Chost_an_Iar', 1), ('Chonnstabal', 1), ('Chonsairt', 2), ('Chonamàra', 1), ('Chottier', 1), ('Chuir', 14), ('Chuireadh', 2), ('Chuirte', 1), ('Chuilthionn', 2), ('Chuilfhionn', 1), ('Chuimrigh', 2), ('Chuala', 5), ('Chuan_Siar', 1), ('Chuan_an_Iar', 3), ('Chumadh', 1), ('Chumhaing', 3), ('Chumhang', 1), ('Chumhachd', 1), ('Chulainn', 1), ('Chunnaic', 2), ('Churracain', 12), ('Chòrd', 2), ('Chrath', 2), ('Chròidh', 1), ('Chris', 2), ('Christie', 2), ('Chroàiseanaich', 1), ('Chrùin', 1), ('Chruinnich', 1), ('Chnuic', 1), ('Chionn', 1), ('Chithear', 1), ('Chill_Donnain', 2), ('Chinn_a_Tuath', 6), ('Chinn_Tail', 1), ('Chinn-a-Tuath', 2), ('Chinook', 2), ('Cheist', 1), ('Cheiltis', 1), ('Cheilteach', 2), ('Cheatharnaigh', 2), ('Cheathramh', 1), ('Cheann', 1), ('Cheann_a_tuath_Afraga', 1), (\"Cheann_a'_Bhàigh\", 3), ('Cheann-suidhe', 1), ('Chìr', 3), ('ChNAG', 1), ('Council', 1), ('Coinnichidh', 4), ('Coinneach', 4), ('Coire_na_Creiche', 2), (\"Coir'_an_Uaigneis\", 1), ('Coille-chnagaidh', 1), ('Coimisean', 3), ('Coimhearsnachd', 1), ('Coke', 1), ('Co-dhiù', 8), ('Co-dhiùbh', 1), ('Co-dhiubh', 5), ('Co-chruinneachadh', 1), ('Colach', 1), (\"Colaisd'\", 1), ('Colaisde', 1), ('Coltach', 1), ('Colm', 1), ('Conchobhair', 1), ('Conall', 1), ('Conamàra', 4), ('Continental', 1), ('Contai_Aontruim', 1), ('Contest', 1), ('Connections', 3), ('Consairt', 1), ('Consalachd', 1), ('Comharra', 1), ('Comhairlichean', 1), ('Comhairle', 13), ('Companion', 1), ('Complex', 1), ('Comraich_na_h-Eaglais', 1), ('Comann', 5), ('Community', 1), ('Cogaidhean', 1), ('Cogadh', 1), ('Cosnaidh', 1), ('Cosobho', 1), ('Cosmina', 11), ('Cook', 1), ('Cooper', 31), ('Co.', 1), ('Càrnaich', 2), ('Càrn-Burg', 2), ('Càm', 1), ('Cànanan', 1), (\"Càit'\", 1), ('Càirinis', 2), ('Clach', 4), ('Clachan', 1), ('Clachan_Trianaoin', 3), ('Clan', 1), ('Clann', 6), ('Clay', 1), ('Claymore', 1), ('Claire', 1), ('Cloinn', 1), ('Cloinne', 1), ('Cleas', 1), ('Cléir-Seanchain', 1), ('Cluinnidh', 3), ('Clive', 2), ('Clàr', 1), ('Còmhla_ris', 1), ('Còmhdhail', 2), ('Cuin', 1), ('Cuir', 1), ('Cuiridh', 5), ('Cuimhnich', 1), ('Cuimhnicheamaid', 1), ('Cuimrigh', 2), ('Cuimrich', 1), ('Cuideachd', 1), ('Cuidichidh', 1), ('Cum', 1), ('Cumha', 1), ('Cumaibh', 3), ('Cumantan', 1), ('Cur', 1), ('Currie', 1), ('Cunntas', 1), (\"Cnoc_'Ic_Phàil\", 1), ('Ciamar', 2), ('Cill_Donnain', 2), ('Cille', 1), ('Cin_Ar_Cik', 1), ('Có', 5), ('Cóigeamh_Mumhan', 1), ('Cruinneachaidhe', 1), ('Cruithnich', 1), ('Crìosd', 1), ('Crìosdaidhean', 1), ('Crìosdail', 4), ('Crìosdachd', 1), ('Croxley_Green', 1), ('Croitear', 1), ('Croitearan', 1), ('Creeno', 17), ('Cùl-daothal', 1), ('Cùisean', 1), ('Cìr', 1), ('Cìre', 6), ('CSA', 1), ('Cèin', 1), ('Cèitean', 1), ('CCG', 3), ('Joan', 3), ('Josie', 1), ('John', 1), ('Johnson', 35), ('Johnston', 3), ('Joe', 1), ('Jack', 1), ('Jackson', 3), ('Jamie', 1), ('Japanese', 1), ('Janet', 1), ('January', 1), ('Jade', 1), ('J.', 4), ('Jennings', 22), ('A', 32), ('Aitken', 36), ('Aitkevitch', 1), ('Aig', 11), ('Air', 15), ('Aird', 1), (\"Aird_a'_Chlachair\", 1), ('Airde', 2), ('Airson', 2), ('Airways', 1), ('Ailean', 6), ('Aileag', 2), ('Ailein', 3), ('Aileig', 1), ('Ailig', 2), ('Aimearagaidh_a_Deas', 1), ('Aimeireaga_a_Deas', 1), ('Aimeireaga_a_Tuath', 1), ('Aikovitch', 1), ('Alan', 1), ('Alanais', 2), ('Alasdair', 18), ('Alder', 1), ('Alderburg', 1), ('Allt_an_Fhionna-choire', 1), ('Allt_Dearg', 1), ('Allan', 1), ('Allison', 1), ('Alba', 149), ('Albainn', 9), ('Albann', 3), ('Albannach', 12), ('Albannaich', 7), ('Alba_air_Adhart', 1), ('Albàinianaich', 2), ('Alcan', 1), ('Alice', 2), ('Athelburg', 1), ('Athaiseag', 1), ('Athair', 1), ('Athairean', 1), ('Ath_Lethinn', 1), ('Ath_Leathainn', 1), ('Athlone', 1), ('Atamaich', 1), ('Attorney', 1), ('Am', 7), ('Amhainn', 1), ('Ameireaga', 1), ('Ameireaga_a_Deas', 1), ('Ameireaganach', 4), ('Ameireaganaich', 7), ('Ameireagaich', 1), ('Ameirigeaich', 1), ('Amearagaidh', 5), ('America', 1), ('Amadan', 1), ('Amanda', 1), ('Am_Baile_Meadhonach', 1), ('Ambasaid', 2), ('An', 28), ('Ann', 4), ('Ann_am', 2), ('Ann_an', 14), ('Anna', 16), ('Annabel', 1), ('Anns', 14), ('An_uair', 1), ('An_uair_sin', 2), ('An_sin', 3), ('An_dràsda', 1), ('An_diugh', 1), ('An_toiseach', 1), ('An-diugh', 2), ('An-dràsta', 1), ('Anglaich', 1), ('Ach', 88), ('Achadh_na_h-Annaid', 1), ('Achadh_na_h-Anaid', 1), ('Abachaidh', 1), ('Abair', 1), ('Abrahàim', 1), ('Abhainn_Nis', 1), ('Abhainn_Abharaon', 1), ('Ar', 3), ('Arctic', 1), ('Arcaibh', 1), ('Arabach', 1), ('Arabaich', 8), ('Arabanaich', 3), ('Ard', 2), ('Ard-Easbaig', 1), ('Arsa', 1), ('A-màireach', 2), ('A-rithist', 3), ('A-nis', 1), (\"A'\", 6), ('Agus', 69), ('Agricultural', 1), ('Aon', 4), ('Aonaran', 1), ('Aonaidh', 5), ('Aonaichte', 2), ('Aonach', 1), ('Aonadh', 3), ('Aonghas', 11), ('Aonghais', 18), ('Aonghus', 2), ('Aodh', 1), ('Aogh', 5), ('Aoidh', 1), ('A_nis', 2), ('A_nise', 1), ('A_h-uile', 1), ('Afraganach', 2), ('Afraca', 1), ('Africa', 4), ('ABO', 7), ('A1', 1), ('A2', 2), ('As', 3), ('Asia', 1), ('Asia_an_Ear', 2), ('Association', 1), ('Ashdown', 3), ('Astràilia', 24), ('Astràilianaich', 29), ('Astràilianach', 2), ('Astràilich', 1), ('AD', 1), ('A.', 3), ('Automobile', 1), ('AA', 1), ('ASP', 2), ('Adhair', 4), ('ACAS', 1), ('Aketa', 1), ('Apprentice', 1), ('Aquaculture', 1), ('A’', 2), ('Aw', 1), ('The', 4), ('Theireadh', 1), ('Theab', 1), ('Theagamh', 1), ('Theatre', 1), ('Theàrlaich', 1), ('Theàrlach', 1), ('Thetford', 1), ('Thì', 1), ('Thìr_Chonail', 1), ('Thuirt', 35), ('Thuit', 1), ('Thug', 19), ('Thugadh', 3), ('Thubhairt', 6), ('Thuath', 1), ('Tha', 355), ('Thabhainn', 1), ('Thainig', 1), ('Thairis', 1), ('Thathas', 3), ('Tharraing', 1), ('Thachair', 3), ('Thalla', 1), ('Thà', 2), ('Thàinig', 15), ('Thàcleit', 2), ('Thig', 2), ('Thigeadh', 1), ('Thighearna', 1), ('Thionndaidh', 2), ('Thiormaich', 1), ('Thill', 2), ('Think', 1), ('Thog', 3), ('Thogadh', 5), ('Thorrloisg', 2), ('Thoirbheartain', 1), ('Thomas', 1), ('Thonaidh', 1), ('Thòiridh', 1), ('Thòisich', 2), ('Thòraidhean', 1), ('Thèid', 24), ('Thèarainte', 1), ('Théid', 2), ('Toffs', 2), ('Tormod', 24), ('Tormad', 1), ('Torra_Micheig', 1), ('Torra_Mhóir', 1), ('Torra_Mhòir', 1), ('Tore', 1), ('Toraidhean', 2), ('Toiseach', 1), ('Tobhta', 1), ('Tobair', 1), ('Togaidh', 1), ('Tom', 1), ('Tommy', 1), ('Tonner', 1), ('Tony', 1), ('Tonaidh', 7), ('Tosgaire', 2), ('Tolsta', 1), ('Tangled', 1), ('Tarmod', 2), ('Taigh', 4), ('Taigh-òsda', 1), ('Taigh-tughaidh', 1), ('Taigh-tasgaidh', 1), ('Taic', 1), ('Tapaichean', 1), ('Taher', 1), ('Taobh', 2), ('Taobh_Tatha', 2), ('Talic', 1), ('Talla', 4), ('Tadhlaidh', 1), ('Tacsi', 3), ('Tà', 1), ('Tàilleir', 1), ('Tàcleit', 3), ('Trianaon', 2), ('Trianaoin', 1), ('Tribunal', 1), ('Trobhad', 2), ('Tràigh_Ghil', 1), ('Tràigh_Sandside', 1), ('Trì', 2), ('Tòmas', 2), ('Tòisich', 2), ('Tòisichidh', 3), ('Tòraidheach', 5), ('Tòraidheachd', 1), ('Tòraidhean', 3), ('Tigh', 3), ('Tighearnas', 1), ('Tionndaidhear', 1), ('Tuigidh', 2), ('Tuirc', 6), ('Tuirce', 2), ('Tuairneir', 4), ('Tuam', 1), ('Turc', 1), ('Turcach', 1), ('Turcaich', 1), ('Tunis', 1), ('Tubaist', 1), ('Teàrlach', 7), ('Teich', 1), ('Teicneòlach', 1), ('Teisteanas', 1), ('Tearaich', 9), ('Texas', 1), ('Telebhisean', 3), ('Tebbit', 1), ('Twice', 1), ('TBh', 3), ('TG', 2), ('TNG', 2), ('Kitchen', 1), ('Kant', 1), ('Katherine', 1), ('Katernitch', 7), ('Katernetch', 15), ('Kadafi', 1), ('Kenneth', 1), ('Kearney', 1), ('Keir', 1), ('KM', 1), ('Warrior', 1), ('Watson', 8), ('Western', 2), ('Westminster', 2), ('Westford', 2), ('Well', 4), ('Wells', 1), ('Whyte', 2), ('Who', 1), ('W.', 1), ('Withers', 1), ('Willie', 1), ('Wright', 1), ('Wringe', 1), ('Wylie', 1), ('Works', 1), ('Giant', 2), ('Gilleòin', 1), ('Gillean', 1), ('Gilleasbuig', 1), ('Gillespie', 1), ('Gille_Sheathanaich', 1), ('Gill-Eain', 1), ('Gidheadh', 2), ('Gibson', 1), ('Gibbs', 1), ('Giblein', 1), ('Give', 1), ('Grove', 1), ('Group', 2), ('Grianaig', 1), ('Griais', 1), ('Gráda', 1), ('Greumach', 2), ('Green', 1), ('Greedy', 19), ('Greineatobht', 1), ('Greinatobht', 1), ('Grant', 1), ('Graham', 2), ('Gàidhlig', 57), ('Gàidhlige', 2), ('Gàidheal', 11), ('Gàidhealtachd', 9), ('Gàidhealach', 4), ('Gàidheil', 8), ('Gàire', 1), ('Gheibh', 3), ('Gheibheadh', 1), ('Gheibhear', 2), ('Gheall', 4), ('Ghearmailt', 1), ('Ghearmailte', 1), ('Ghearmailteach', 1), ('Ghearain', 1), ('Ghearasdan', 2), ('Ghearran', 1), ('Ghabh', 6), ('Ghaoir', 1), ('Ghaidheal', 2), ('Ghaidhealach', 2), ('Ghaidhealtachd', 12), ('Ghaidheil', 3), ('Ghalltachd', 1), ('Ghaeilge', 1), ('Ghleann_Mhór', 1), ('Ghluais', 2), ('Ghlais', 12), ('Ghlaschu', 5), ('Ghlinn_Urchadainn', 1), ('Ghàidheil', 1), ('Ghàidheal', 4), ('Ghàidhealach', 3), ('Ghàidhealtachd', 5), ('Ghàidhlig', 48), ('Ghill-Eain', 8), ('Ghiblein', 3), ('Ghriogaraich', 1), ('Ghriomasaigh', 1), ('Ghreenpeace', 1), ('Ghreineatobht', 1), ('Ghrèinetobht', 1), ('Ghobhainn', 1), ('Ghorem', 1), ('Ghèill', 1), ('Geall', 1), ('Gealach', 2), ('Gead_an_t-Saillear', 1), ('Gearasdan', 1), ('Gearailt', 1), ('Gearmailteach', 3), ('Gearmailte_an_ear', 1), ('Gearmailtich', 1), ('Ged', 14), ('Ge-tà', 2), ('Geàrraidh_a’_Bhota', 1), ('Geàrrloch', 1), (\"Ge_b'e_dé\", 1), ('Ge_brith_dé', 1), ('Get', 1), ('Gu', 8), ('Gun', 3), ('Gus', 1), ('Gu_sealladh_ort', 1), ('Gu_dè', 1), ('Gu_ruige', 1), ('Gulban', 1), ('Guinea', 2), ('Gasta', 1), ('Gabh', 2), ('Gabhaidh', 2), ('Gann', 1), ('Gaoir', 2), ('Gaol', 1), ('Gaidheal', 10), ('Gaidhealach', 2), ('Gaidhealtachd', 17), ('Gaidheil', 7), ('Gaillimhe', 1), ('Garaidh', 15), ('Gall', 1), ('Gallaibh', 4), ('Gaeilge', 1), ('Glaschu', 15), ('Glàmaig', 2), ('Glenda', 1), ('Gleann_Bharraigeal', 1), ('Gleann_Comhainn', 1), ('G.', 1), ('Gypsidh', 2), ('Gypsidhean', 3), ('Goill', 2), ('Goodman', 1), ('Gordan', 1), ('Gorem', 12), ('Goldie', 1), ('Goan', 1), ('Gough', 28), ('Gnothaichean', 1), ('Gòrdan', 1), ('know', 1), ('knackered', 1), ('kiwi', 1), ('yoghurt', 2), ('yoghurts', 1), ('yon', 1), ('your', 1), ('years', 1), ('yer', 1), ('O', 28), ('Orra', 1), ('Ora-Ho-Vach', 1), ('Orainseach', 1), ('Oranmor', 1), ('Oidhche', 1), ('Oighrig', 1), ('Oilthigh', 9), ('Oisein', 1), ('Oisean', 1), (\"Oitir_'ic_Dhòmhnaill_Glais\", 1), ('Oifis', 7), ('Oifigeir', 2), ('Okay', 1), ('Office', 1), ('Ollaimh', 1), ('Ollamh', 4), ('Oll.', 4), ('Olaich', 1), ('Olimpach', 1), ('Oliver', 1), ('Obair', 1), ('Obain', 1), ('Oban', 2), ('Obar_Dheathain', 1), ('Og', 2), (\"O'Sullivan\", 1), (\"O'_Connor\", 13), (\"O'Connor\", 1), ('Od', 1), ('Odrum', 2), ('Ospadal', 1), ('Ostair', 1), ('Oxford', 1), ('One', 1), ('O_Hianlaidh', 1), ('Room', 1), ('Roinn', 5), ('Roinn-Eòrpa', 5), ('Roinn_Eòrpa', 11), ('Rois', 3), ('Roimhe', 1), ('Romansachan', 5), ('Rob', 2), ('Robin', 2), ('Robasdan', 4), ('Robbie', 1), ('Rothach', 3), ('Ros', 2), ('Ross', 3), ('Rose', 1), ('Rockall', 1), ('Rocket', 1), ('Ron', 1), ('Ronnie', 1), ('Rogers', 1), ('Rod', 1), ('Rodonavitch', 1), ('Rodonovitch', 1), ('Rodanovitch', 2), ('Royal', 1), ('Ruaidh', 5), ('Ruairidh', 1), ('Ruadh', 2), ('Rubha', 3), ('Rubha_Gharbh', 1), ('Rubhaich', 1), ('Rug', 1), ('Rugadh', 2), ('Rud', 3), ('Rudeigin', 1), ('Ruddle', 1), ('Ruis', 1), ('Ruiseanach', 3), ('Ruiseanaich', 2), ('Ruiseal', 2), ('Ruiseil', 1), ('Ruith', 1), ('Ruigh-shol-ais', 1), ('Ruyavitch', 1), ('Ruyolitch', 2), ('Ruyovitch', 3), ('Riamh', 1), ('Riabhach', 1), ('Riaghaltas', 32), ('Riaghaltais', 4), ('Riaghailt', 2), ('Riaghladair', 2), ('Rinn', 11), ('Riccarton', 2), ('Richards', 11), ('Riovitch', 3), ('Riyovitch', 2), ('RAF', 3), ('Ràghaill', 3), ('Ràinig', 2), ('Ròimh', 6), ('Ròs', 1), ('Ròcabarraigh', 2), ('Ròn', 1), ('Ròmanach', 1), ('Ròmanaich', 2), ('Ròghadal', 1), ('Rìgh', 30), ('Rìoghachd', 2), ('Rìoghail', 3), ('Raon_Ruairi', 1), ('Raghnaill', 6), ('Raghnall', 2), ('Raymond', 1), ('Railtrack', 2), ('Raigmhoir', 1), ('Raig_Mhor', 1), ('Rawmac', 2), ('Rannsachadh', 1), ('Range', 1), ('Rachadh', 1), ('Rathaig_Mhòir', 1), ('Rathad', 1), ('Ratcliffe', 3), ('Radio', 4), ('Radcliffe', 2), ('Ré', 2), ('Reiceadh', 1), ('Reid', 3), ('Reachdan', 1), ('Reagan', 8), ('Renfrew', 1), ('Reno', 1), ('R.', 1), ('Rùnaire', 7), ('RgCs', 1), ('RUC', 1), ('RSPCA', 2), ('Ryolitch', 2), ('Ryovitch', 2), ('NOSWA', 2), ('NAAFI', 1), ('NATO', 3), ('Nuair', 20), ('Na', 9), ('Nam', 7), ('Nach', 4), ('Nan', 3), ('Nandrilone', 1), ('Nancy', 1), ('Napier', 1), ('Naomh', 1), ('Nas', 1), ('Nation', 1), ('Nì', 3), ('No', 2), ('Noah', 1), ('Nochd', 4), ('North', 1), ('Nottingham_Forest', 1), ('Nero', 1), ('Newbridge', 1), ('New_York', 2), ('Neach', 1), ('Nèibhi', 1), ('Nis', 10), ('Nis-Conamàra', 1), ('Nisich', 7), ('Niall', 2), ('Nighean', 7), ('Nigeria', 1), ('Nic', 7), ('Nicol', 30), ('Nicolaisen', 1), ('Nichol', 21), ('Nicholl', 18), ('Nicholls', 1), ('NicCuithis', 1), ('NicAonghais', 1), ('NicAsgaill', 2), ('NicNeacail', 1), ('NicUalraig', 2), ('NicFhionghain', 2), ('Nic-an-Tughadair', 4), ('NicIlleDhuibh', 1), ('Nirribhidh', 7), ('NHS', 1), ('Nàiseanta', 2), ('Nàiseantaich', 4), ('Nàiseantach', 2), ('Nàdarra', 1), ('è', 1), ('èis', 1), ('èisg', 10), ('èisd', 1), ('èisdeachd', 2), ('èisteachd', 1), ('èigh', 3), ('èigheachd', 1), ('èiginn', 2), ('èirig', 1), ('èirigh', 3), ('èirich', 12), ('èiridh', 1), ('èileadh', 1), ('èildearan', 1), ('èifeachdaiche', 1), ('èasgaidh', 1), ('Uiread', 1), ('Uill', 5), ('Uilleam', 12), ('Uilleim', 3), ('Uillt_Dheirg', 1), ('Uibhist', 23), ('Uibhist_a_Deas', 10), ('Uibhist_a_Tuath', 8), ('Uibhist_a-Deas', 2), ('Uibhistich', 3), ('Uibhist-a-Tuath', 5), ('Uibhist-a-Deas', 1), ('Uibhisteach', 1), ('Uime', 3), ('Ui_Neill', 1), ('Uig', 2), ('Uisge', 1), ('Uist', 1), ('Umph', 1), ('Uh-huh', 1), ('Uabhar', 1), ('Uallas', 1), ('Urr.', 2), ('Urramach', 1), ('Uí', 1), ('Ulaidh', 4), ('Ughdarrais', 1), ('UN', 3), ('\"', 458), ('Fad', 1), ('Fadhail_an_Eilein_Shlignich', 1), ('Fadhail_an_Iar', 1), ('Faodaidh', 4), ('Faodar', 1), ('Fan', 1), ('Fascists', 1), ('Facail', 1), ('Faladh', 1), ('Falklands', 1), ('Falclands', 1), ('Fairweather', 1), ('Fuirich', 1), ('Furrow', 1), ('Fhad', 2), ('Fhalbh', 1), ('Fhaing', 1), ('Fhionnlaigh', 1), ('Fhinn', 3), ('Fhéinn', 1), ('Fhraing', 6), ('Fhriseal', 1), ('Fhriseil', 1), ('Fhreasdal', 1), ('Fhuair', 9), ('Fhuaireadh', 2), ('Fhear', 1), ('Fhear-Sgrùdaidh', 1), ('Fhèill', 3), ('Fhoghlaim', 1), ('Feumaidh', 7), ('Feumar', 2), ('Feuch', 2), ('Feuchaibh', 1), ('Feadhainn', 1), ('Fear', 16), ('Fearghas', 1), ('Fearchar', 1), ('Feachd', 3), ('Feet', 1), ('Fir', 2), ('First', 2), ('Fiantaichean', 6), ('Fionn', 8), ('Fionnlainn', 2), ('Fiofa', 1), ('Fiollagain', 1), ('Finnie', 3), ('Fiùs', 1), ('Flower', 1), ('Flinn', 1), ('Flanigan', 1), ('Friseal', 4), ('Friends', 2), ('Frainge', 2), ('Francis', 1), ('Frangach', 1), ('Freadaidh', 1), ('Fred', 1), ('F.', 1), ('Fèithe', 1), ('Fèinne', 1), ('FS', 1), ('Fìobha', 1), ('Fìofa', 1), ('Foghlam', 1), ('Foithe', 1), ('Foirthe', 1), ('Foxley', 1), ('Forsyth', 2), ('Féis', 1), (';', 68), ('“', 252), ('6', 2), ('600', 1), ('Venezuela', 1), ('Victor', 1), ('Vatican', 2), ('Valladolid', 1), (':', 18), ('á', 20), ('ám', 1), ('ás', 27), ('éirich', 7), ('éirigh', 5), ('éisdeachd', 8), ('éisg', 1), ('éisteachd', 5), ('éibhinn', 1), ('éiginn', 1), ('éigheach', 1), ('(', 23), (')', 23), ('ÀISIANACH', 1), ('Àrd', 3), ('Àrd-Chomhairliche', 1), ('Àrnol', 1), ('Àiteachais', 4), ('Àird_Mhidhinis', 1), ('1730', 2), ('1715', 1), ('1714', 1), ('1765', 1), ('1751', 6), ('1746', 1), ('1745', 1), ('1748', 1), ('1702', 4), ('1704', 1), ('1722', 1), ('1724', 1), ('1729', 1), ('1782', 1), ('1774', 1), ('1798', 1), ('18', 1), ('1871', 1), ('1874', 1), ('1872', 1), ('1873', 1), ('1800', 1), ('1865', 2), ('1821', 1), ('1840', 1), ('1883', 1), ('1881', 1), ('1882', 1), ('1851', 1), ('1818', 1), ('1899', 1), ('1690', 2), ('1692', 4), ('1660', 2), ('1689', 2), ('1680', 1), ('1686', 2), ('1687', 1), ('1688', 1), ('1648', 1), ('1651', 2), ('1674', 5), ('1679', 1), ('1630an', 1), ('16mh', 1), ('1969', 1), ('1975', 2), ('1979', 1), ('1978', 1), ('1970an', 1), ('1974', 1), ('1923', 1), ('1988', 2), ('1999', 2), ('1998', 1), ('1991', 1), ('1997', 1), ('1956', 1), ('1948', 1), ('15', 1), ('1598', 1), ('150', 1), ('12', 1), ('1258', 2), ('11', 1), ('Ó', 3), ('Ó_Baoill', 1), ('Ìochdar', 1), ('Ìle', 3), ('2', 7), ('23', 1), ('2000', 1), ('27', 1), ('7', 2), ('71', 1), ('720', 1), ('%', 1), ('0', 1), ('Ùisdean', 2), ('Ùige', 1), ('Ùire', 1), ('Ùrlair', 5), ('Ùra', 1), ('Ùghdarras', 2), ('500', 1), ('563', 1), ('59', 1), ('Éirinn', 4), ('Éirisgeigh', 1), ('Éireann', 2), ('Éireannaich', 1), ('Éireannach', 1), ('…', 6), ('9', 3), ('3', 3), ('367', 1), ('30', 2), ('35', 1), ('Quintiles', 1), ('Ás', 1), ('’', 2), ('’s', 81), ('’sam', 1), ('’n', 10), ('’na', 11), ('’nar', 3), ('’nam', 7), ('’nan', 3), ('’S', 6), ('’g', 3), ('’r', 1), ('Young', 1), ('Yositch', 29), ('Ye', 1), ('Yankos', 12), ('Yugoslavai', 1), ('Yugoslavia', 58), ('”', 8), ('4', 3), ('40', 1), ('Zall', 1), ('£', 4), ('8', 1)]\n"
     ]
    }
   ],
   "source": [
    "print(len(trie.search('*',with_count=True)))"
   ]
  }
 ]
}