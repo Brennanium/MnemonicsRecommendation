{
 "metadata": {
  "language_info": {
   "codemirror_mode": {
    "name": "ipython",
    "version": 3
   },
   "file_extension": ".py",
   "mimetype": "text/x-python",
   "name": "python",
   "nbconvert_exporter": "python",
   "pygments_lexer": "ipython3",
   "version": "3.9.5"
  },
  "orig_nbformat": 2,
  "kernelspec": {
   "name": "python395jvsc74a57bd0dfe826cd0d2d16f756ef7ed973ea241894d65ce5c79e0af9a86738d25b9b6c6c",
   "display_name": "Python 3.9.5 64-bit ('CSCI_404_Final-Yi1LWMfq': venv)"
  }
 },
 "nbformat": 4,
 "nbformat_minor": 2,
 "cells": [
  {
   "cell_type": "code",
   "execution_count": 1,
   "metadata": {},
   "outputs": [],
   "source": [
    "from models.autofill import *\n",
    "from models.ngram import *\n",
    "from models.evaluate import *\n",
    "from nltk.corpus import arcosg"
   ]
  },
  {
   "cell_type": "code",
   "execution_count": 2,
   "metadata": {},
   "outputs": [
    {
     "output_type": "stream",
     "name": "stdout",
     "text": [
      "10899\n10790\n"
     ]
    }
   ],
   "source": [
    "training_sents, test_sents = split_data()\n",
    "print(len(arcosg.sents()))\n",
    "print(len(training_sents) + len(test_sents))"
   ]
  },
  {
   "cell_type": "code",
   "execution_count": 3,
   "metadata": {},
   "outputs": [
    {
     "output_type": "stream",
     "name": "stdout",
     "text": [
      "(11, 8, 4, 4)\n",
      "(28, 9, 6, 6)\n",
      "(17, 8, 5, 5)\n",
      "(17, 8, 5, 5)\n"
     ]
    }
   ],
   "source": [
    "trie = TrieModel()\n",
    "\n",
    "print(evaluate(trie, \"tha mi a' goid\"))\n",
    "print(evaluate(trie, \"a bheil thu a' faireachdainn math\"))\n",
    "print(evaluate(trie, arcosg.sents()[0]))\n",
    "print(evaluate(trie, test_sents[0]))"
   ]
  },
  {
   "cell_type": "code",
   "execution_count": 4,
   "metadata": {},
   "outputs": [],
   "source": [
    "sentences = arcosg.sents()"
   ]
  },
  {
   "cell_type": "code",
   "execution_count": 5,
   "metadata": {},
   "outputs": [
    {
     "output_type": "execute_result",
     "data": {
      "text/plain": [
       "['a', 'an', 'air', ',', 'e', '.', \"a'\", 'tha', 'agus', 'na']"
      ]
     },
     "metadata": {},
     "execution_count": 5
    }
   ],
   "source": [
    "unigram = UnigramModel(sents=sentences)\n",
    "unigram.next_nwords(10,'')"
   ]
  },
  {
   "cell_type": "code",
   "execution_count": 6,
   "metadata": {},
   "outputs": [
    {
     "output_type": "execute_result",
     "data": {
      "text/plain": [
       "['dol', 'tighinn', 'feuchainn', 'ruith', 'faighinn', 'cur']"
      ]
     },
     "metadata": {},
     "execution_count": 6
    }
   ],
   "source": [
    "bigram = BigramModel(sents=sentences)\n",
    "bigram.next_nwords(6,[\"a'\"])"
   ]
  },
  {
   "cell_type": "code",
   "execution_count": 7,
   "metadata": {},
   "outputs": [
    {
     "output_type": "execute_result",
     "data": {
      "text/plain": [
       "['smaoineachadh', 'creidsinn', 'smaointinn', 'smaoineadh', 'ràdh', 'coimhead']"
      ]
     },
     "metadata": {},
     "execution_count": 7
    }
   ],
   "source": [
    "trigram = TrigramModel(sents=sentences)\n",
    "trigram.next_nwords(6,['mi',\"a'\"])"
   ]
  },
  {
   "cell_type": "code",
   "execution_count": 8,
   "metadata": {},
   "outputs": [
    {
     "output_type": "stream",
     "name": "stdout",
     "text": [
      "['ach', '[?]', 'gu', 'sia']\n['e', 'mi', 'iad', 'an', 'i', 'sin', 'seo', 'sinn', 'esan', 'am']\n"
     ]
    }
   ],
   "source": [
    "fourgram = NgramModel(4,sents=sentences)\n",
    "print(fourgram.next_nwords(6,['mi',\"a'\",'creidsinn']))\n",
    "print(fourgram.next_nwords(10,['tha']))"
   ]
  },
  {
   "cell_type": "code",
   "execution_count": 9,
   "metadata": {},
   "outputs": [
    {
     "output_type": "stream",
     "name": "stdout",
     "text": [
      "['gu', 'ach', '[?]', 'sia', \"a'\", 'le']\n['e', 'mi', 'iad', 'an', 'i', 'sin', 'seo', 'sinn', 'na', 'am']\n"
     ]
    }
   ],
   "source": [
    "lin_interp = LinearInterpolationModel(sents=sentences)\n",
    "print(lin_interp.next_nwords(6,['mi',\"a'\",'creidsinn']))\n",
    "print(lin_interp.next_nwords(10,['tha']))"
   ]
  },
  {
   "cell_type": "code",
   "execution_count": 10,
   "metadata": {},
   "outputs": [
    {
     "output_type": "stream",
     "name": "stdout",
     "text": [
      "['gu', 'ach', '[?]', 'sia', 'a', 'còig']\n['e', 'mi', 'iad', 'an', 'i', 'sin', 'seo', '.', 'esan', 'sinn']\n"
     ]
    }
   ],
   "source": [
    "lin_interp = BackoffInterpolationModel(sents=sentences)\n",
    "print(lin_interp.next_nwords(6,['mi',\"a'\",'creidsinn']))\n",
    "print(lin_interp.next_nwords(10,['tha']))"
   ]
  },
  {
   "cell_type": "code",
   "execution_count": 11,
   "metadata": {},
   "outputs": [
    {
     "output_type": "stream",
     "name": "stdout",
     "text": [
      "['mi', 'mar', 'math']\n['moladh', 'mhòr-chuid', 'mhilennium']\n['dol', 'tighinn', 'feuchainn']\n"
     ]
    }
   ],
   "source": [
    "ngram_trie = NgramTrieModel(ngram=bigram)\n",
    "print(ngram_trie.suggestions('m'))\n",
    "print(ngram_trie.suggestions_context('m',['tha','mi',\"a'\"]))\n",
    "print(ngram_trie.suggestions_context('',['tha','mi',\"a'\"]))"
   ]
  },
  {
   "cell_type": "code",
   "execution_count": 12,
   "metadata": {},
   "outputs": [],
   "source": [
    "training_sents, test_sents = split_data() # split_data(test_files=['c01.txt'])\n",
    "words = [w for sent in training_sents for w in sent]"
   ]
  },
  {
   "cell_type": "code",
   "execution_count": 13,
   "metadata": {},
   "outputs": [
    {
     "output_type": "stream",
     "name": "stdout",
     "text": [
      "1048/1048\n",
      "<models.evaluate.Results object at 0x107b4ce50>\n"
     ]
    }
   ],
   "source": [
    "bigram_trie = NgramTrieModel(words=words,ngram=BigramModel(sents=training_sents))\n",
    "result = test_model(bigram_trie,training_sents=training_sents,test_sents=test_sents)\n",
    "print(result)"
   ]
  },
  {
   "cell_type": "code",
   "execution_count": 14,
   "metadata": {
    "tags": []
   },
   "outputs": [
    {
     "output_type": "stream",
     "name": "stdout",
     "text": [
      "0.6110697227287745\n",
      "0.6154918225831189\n",
      "89.39919499999993\n",
      "0.08530457538167932\n"
     ]
    }
   ],
   "source": [
    "print(result.get_key_ratio())\n",
    "print(result.get_word_ratio())\n",
    "print(result.time_total)\n",
    "print(result.avg_time())"
   ]
  },
  {
   "cell_type": "code",
   "execution_count": 15,
   "metadata": {},
   "outputs": [],
   "source": [
    "trie = TrieModel(words=words)\n",
    "bigram_trie = NgramTrieModel(words=words,ngram=BigramModel(sents=training_sents))\n",
    "trigram_trie = NgramTrieModel(words=words,ngram=TrigramModel(sents=training_sents))\n",
    "fourgram_trie = NgramTrieModel(words=words,ngram=NgramModel(4,sents=training_sents))\n",
    "iterp_trie = NgramTrieModel(words=words,ngram=LinearInterpolationModel(sents=training_sents))\n",
    "back_trie = NgramTrieModel(words=words,ngram=BackoffInterpolationModel(sents=training_sents))\n",
    "\n",
    "trie_models = [trie,bigram_trie,trigram_trie,fourgram_trie,iterp_trie,back_trie]"
   ]
  },
  {
   "cell_type": "code",
   "execution_count": 16,
   "metadata": {},
   "outputs": [
    {
     "output_type": "stream",
     "name": "stdout",
     "text": [
      "1048/1048 model: 5\n"
     ]
    }
   ],
   "source": [
    "trie_results = test_models(trie_models,training_sents=training_sents,test_sents=test_sents)"
   ]
  },
  {
   "cell_type": "code",
   "execution_count": 17,
   "metadata": {},
   "outputs": [
    {
     "output_type": "stream",
     "name": "stdout",
     "text": [
      "TrieModel\n0.5552727647275361\n0.9135377120309013\n633.6574779999996\n0.6046349980916027\n\nBigramTrie\n0.6110697227287745\n0.6154918225831189\n75.9643469999983\n0.07248506393129608\n\nTrigramTrie\n0.7361147455367812\n0.4095007745435491\n47.6790310000067\n0.04549525858779265\n\nFourgramTrie\n0.7908396876450589\n0.33978820081636496\n47.9523580000009\n0.04575606679389399\n\nLinInterpTrie\n0.4523174327320947\n0.9108597545265239\n1523.588838\n1.4538061431297709\n\nBackInterpTrie\n0.463112340659277\n0.910204432422875\n1499.0921649999975\n1.4304314551526693\n\n"
     ]
    }
   ],
   "source": [
    "trie_model_names = [\"TrieModel\", \"BigramTrie\", \"TrigramTrie\", \"FourgramTrie\", \"LinInterpTrie\", \"BackInterpTrie\"]\n",
    "\n",
    "for r, n in zip(trie_results.values(),trie_model_names):\n",
    "    print(n)\n",
    "    print(r.get_key_ratio())\n",
    "    print(r.get_word_ratio())\n",
    "    print(r.time_total)\n",
    "    print(r.avg_time())\n",
    "    print()"
   ]
  },
  {
   "cell_type": "code",
   "execution_count": 18,
   "metadata": {},
   "outputs": [],
   "source": [
    "dfa = MinimalDFAModel(words=words)\n",
    "bigram_dfa = NgramMinimalDFAModel(words=words,ngram=BigramModel(sents=training_sents))\n",
    "trigram_dfa = NgramMinimalDFAModel(words=words,ngram=TrigramModel(sents=training_sents))\n",
    "fourgram_dfa = NgramMinimalDFAModel(words=words,ngram=NgramModel(4,sents=training_sents))\n",
    "iterp_dfa = NgramMinimalDFAModel(words=words,ngram=LinearInterpolationModel(sents=training_sents))\n",
    "back_dfa = NgramMinimalDFAModel(words=words,ngram=BackoffInterpolationModel(sents=training_sents))\n",
    "\n",
    "dfa_models = [dfa, bigram_dfa, trigram_dfa, fourgram_dfa, iterp_dfa, back_dfa]"
   ]
  },
  {
   "cell_type": "code",
   "execution_count": 38,
   "metadata": {},
   "outputs": [
    {
     "output_type": "stream",
     "name": "stdout",
     "text": [
      "1048/1048 model: 5\n"
     ]
    }
   ],
   "source": [
    "dfa_results = test_models(dfa_models,training_sents=training_sents,test_sents=test_sents)\n"
   ]
  },
  {
   "cell_type": "code",
   "execution_count": 39,
   "metadata": {},
   "outputs": [
    {
     "output_type": "stream",
     "name": "stdout",
     "text": [
      "MinimalDFAModel\n0.5553690408527885\n0.9135377120309013\n505.34737899998345\n0.48220169751906816\n\nBigramMinimalDFA\n0.6110455890097779\n0.6156826622777753\n61.4443860000174\n0.058630139312993705\n\nTrigramMinimalDFA\n0.7367395149334479\n0.4096916142382056\n37.69783699994787\n0.035971218511400636\n\nFourgramMinimalDFA\n0.7911012605747475\n0.33997904051102146\n37.945648999973855\n0.0362076803434865\n\nLinInterpMinimalDFA\n0.45291689574210087\n0.9110505942211804\n1327.9304170000005\n1.267109176526718\n\nBackInterpMinimalDFA\n0.4631755355940217\n0.9103952721175314\n1243.8826079999617\n1.1869108854961468\n\n"
     ]
    }
   ],
   "source": [
    "dfa_model_names = [\"MinimalDFAModel\", \"BigramMinimalDFA\", \"TrigramMinimalDFA\", \"FourgramMinimalDFA\", \"LinInterpMinimalDFA\", \"BackInterpMinimalDFA\"]\n",
    "\n",
    "for r, n in zip(dfa_results.values(),dfa_model_names):\n",
    "    print(n)\n",
    "    print(r.get_key_ratio())\n",
    "    print(r.get_word_ratio())\n",
    "    print(r.time_total)\n",
    "    print(r.avg_time())\n",
    "    print()"
   ]
  },
  {
   "cell_type": "code",
   "execution_count": 40,
   "metadata": {},
   "outputs": [],
   "source": [
    "models5 = [UnigramModel(sents=training_sents), BigramModel(sents=training_sents), TrigramModel(sents=training_sents), NgramModel(4,sents=training_sents), NgramModel(5,sents=training_sents)]\n",
    "models7 = [UnigramModel(sents=training_sents), BigramModel(sents=training_sents), TrigramModel(sents=training_sents), NgramModel(4,sents=training_sents), NgramModel(5,sents=training_sents), \n",
    "    NgramModel(6,sents=training_sents), NgramModel(7,sents=training_sents)]\n",
    "\n",
    "\n",
    "iterp_dfa1 = NgramMinimalDFAModel(words=words,ngram=LinearInterpolationModel(sents=training_sents)) # 1:0.1   2:0.4   3:0.5\n",
    "iterp_dfa2 = NgramMinimalDFAModel(\n",
    "    words=words,\n",
    "    ngram=LinearInterpolationModel(\n",
    "        models=models5, \n",
    "        weights={1:0.03,2:0.07,3:0.2,4:0.3,5:0.4},\n",
    "        sents=training_sents)) # 1:0.03     2:0.007      3:0.2  4:0.3   5:0.4\n",
    "iterp_dfa3 = NgramMinimalDFAModel(\n",
    "    words=words,\n",
    "    ngram=LinearInterpolationModel(\n",
    "        models=models5, \n",
    "        weights={1:0.0001,2:0.0099,3:0.09,4:0.2,5:0.7},\n",
    "        sents=training_sents)) # 1:0.0001   2:0.0099    3:0.09  4:0.2   5:0.7\n",
    "iterp_dfa4 = NgramMinimalDFAModel(\n",
    "    words=words,\n",
    "    ngram=LinearInterpolationModel(\n",
    "        models=models7, \n",
    "        weights={1:0.003,2:0.007,3:0.05,4:0.14,5:0.2,6:0.25,7:0.35},\n",
    "        sents=training_sents)) # 1:0.003    2:0.007     3:0.05   4:0.14 5:0.2    6:0.25  7:0.35\n",
    "iterp_dfa5 = NgramMinimalDFAModel(\n",
    "    words=words,\n",
    "    ngram=LinearInterpolationModel(\n",
    "        models=models7, \n",
    "        weights={1:0.0001,2:0.0049,3:0.015,4:0.04,5:0.08,6:0.16,7:0.7},\n",
    "        sents=training_sents)) # 1:0.0001   2:0.0049   3:0.015    4:0.04  5:0.08    6:0.16  7:0.7\n",
    "\n",
    "interp_models = [iterp_dfa1, iterp_dfa2, iterp_dfa3, iterp_dfa4, iterp_dfa5]"
   ]
  },
  {
   "cell_type": "code",
   "execution_count": 41,
   "metadata": {},
   "outputs": [
    {
     "output_type": "stream",
     "name": "stdout",
     "text": [
      "1048/1048 model: 4\n"
     ]
    }
   ],
   "source": [
    "interp_results = test_models(interp_models,training_sents=training_sents,test_sents=test_sents)"
   ]
  },
  {
   "cell_type": "code",
   "execution_count": 42,
   "metadata": {},
   "outputs": [
    {
     "output_type": "stream",
     "name": "stdout",
     "text": [
      "LinInterpMinimalDFA - Default TrigramModel\nweights: 1:0.1   2:0.4   3:0.5\n0.45291689574210087\n0.9110505942211804\n1549.255025999977\n1.4782967805343292\n\nLinInterpMinimalDFA - FivegramModel\nweights: 1:0.03   2:0.007    3:0.2  4:0.3   5:0.4\n0.45406593176526\n0.9100721277131336\n1668.3995440000217\n1.5919842977099443\n\nLinInterpMinimalDFA - FivegramModel\nweights: 1:0.0001   2:0.0099    3:0.09  4:0.2   5:0.7\n0.45412014428009045\n0.9097211189890333\n1827.9531839999981\n1.7442301374045783\n\nLinInterpMinimalDFA - SevengramModel\nweights: 1:0.003    2:0.007   3:0.05   4:0.14 5:0.2   6:0.25  7:0.35\n0.45416224725342696\n0.9099767078658054\n1846.902947999968\n1.7623119732824124\n\nLinInterpMinimalDFA - SevengramModel\nweights: 1:0.0001   2:0.0049   3:0.015   4:0.04  5:0.08   6:0.16  7:0.7\n0.4541021405353115\n0.9098165388363615\n1908.3542290000187\n1.820948691793911\n\n"
     ]
    }
   ],
   "source": [
    "interp_names = [\n",
    "    \"LinInterpMinimalDFA - Default TrigramModel\\nweights: 1:0.1   2:0.4   3:0.5\",\n",
    "    \"LinInterpMinimalDFA - FivegramModel\\nweights: 1:0.03   2:0.007    3:0.2  4:0.3   5:0.4\",\n",
    "    \"LinInterpMinimalDFA - FivegramModel\\nweights: 1:0.0001   2:0.0099    3:0.09  4:0.2   5:0.7\",\n",
    "    \"LinInterpMinimalDFA - SevengramModel\\nweights: 1:0.003    2:0.007   3:0.05   4:0.14 5:0.2   6:0.25  7:0.35\",\n",
    "    \"LinInterpMinimalDFA - SevengramModel\\nweights: 1:0.0001   2:0.0049   3:0.015   4:0.04  5:0.08   6:0.16  7:0.7\"]\n",
    "\n",
    "for r, n in zip(interp_results.values(),interp_names):\n",
    "    print(n)\n",
    "    print(r.get_key_ratio())\n",
    "    print(r.get_word_ratio())\n",
    "    print(r.time_total)\n",
    "    print(r.avg_time())\n",
    "    print()"
   ]
  },
  {
   "cell_type": "code",
   "execution_count": null,
   "metadata": {},
   "outputs": [],
   "source": []
  }
 ]
}