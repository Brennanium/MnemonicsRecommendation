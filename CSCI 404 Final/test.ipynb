{
 "metadata": {
  "language_info": {
   "codemirror_mode": {
    "name": "ipython",
    "version": 3
   },
   "file_extension": ".py",
   "mimetype": "text/x-python",
   "name": "python",
   "nbconvert_exporter": "python",
   "pygments_lexer": "ipython3",
   "version": "3.9.5"
  },
  "orig_nbformat": 2,
  "kernelspec": {
   "name": "python395jvsc74a57bd0dfe826cd0d2d16f756ef7ed973ea241894d65ce5c79e0af9a86738d25b9b6c6c",
   "display_name": "Python 3.9.5 64-bit ('CSCI_404_Final-Yi1LWMfq': venv)"
  },
  "metadata": {
   "interpreter": {
    "hash": "dfe826cd0d2d16f756ef7ed973ea241894d65ce5c79e0af9a86738d25b9b6c6c"
   }
  }
 },
 "nbformat": 4,
 "nbformat_minor": 2,
 "cells": [
  {
   "cell_type": "code",
   "execution_count": 1,
   "metadata": {},
   "outputs": [
    {
     "output_type": "stream",
     "name": "stderr",
     "text": [
      "[nltk_data] Downloading package punkt to\n[nltk_data]     /Users/brennanium/nltk_data...\n[nltk_data]   Package punkt is already up-to-date!\n"
     ]
    }
   ],
   "source": [
    "import nltk\n",
    "nltk.download('punkt')\n",
    "from collections import Counter, defaultdict\n",
    "import random\n",
    "import heapq\n",
    "import operator\n",
    "import math\n",
    "from nltk.corpus import arcosg"
   ]
  },
  {
   "cell_type": "code",
   "execution_count": 2,
   "metadata": {},
   "outputs": [],
   "source": [
    "def load_file(data_file=None):\n",
    "    sentences = []   \n",
    "    for sent in arcosg.sents() if data_file is None else arcosg.sents(data_file):\n",
    "        sentences.append([\"<s>\"] + sent + [\"</s>\"])\n",
    "    return sentences"
   ]
  },
  {
   "cell_type": "code",
   "execution_count": 3,
   "metadata": {},
   "outputs": [
    {
     "output_type": "stream",
     "name": "stdout",
     "text": [
      "[('[3]', 'XSC'), ('ach', 'CC'), ('bha', 'V-S'), ...]\n[('[3]', 'X'), ('ach', 'CONJ'), ('bha', 'VERB'), ...]\n"
     ]
    }
   ],
   "source": [
    "print(arcosg.tagged_words())\n",
    "print(arcosg.tagged_words(tagset='universal'))"
   ]
  },
  {
   "cell_type": "code",
   "execution_count": 4,
   "metadata": {
    "tags": [
     "outputPrepend"
    ]
   },
   "outputs": [
    {
     "output_type": "stream",
     "name": "stdout",
     "text": [
      "s', 'Nicholl', \"a'\", 'tighinn', 'a-mach', 'mu', 'choinneamh', '</s>'], ['<s>', 'Spasitch', 'ga', 'gluasad', 'a-steach', 'gu', 'Yositch', '</s>'], ['<s>', 'Yositch', \"a'\", 'ruith', 'leatha', '</s>'], ['<s>', 'is', 'Johnson', 'còmhla', 'ris', '</s>'], ['<s>', 'chuir', 'esan', 'gu', 'Bostardivitch', 'i', '</s>'], ['<s>', 'ach', 'choinnich', 'MacStay', 'i', '</s>'], ['<s>', 'MacStay', 'gu', 'MacClare', '</s>'], ['<s>', 'MacClare', \"a's\", 'a’', 'chearcall', 'meadhan', '</s>'], ['<s>', 'chan', 'eil', 'duine', 'aige', 'ach', 'e', 'fhèin', '</s>'], ['<s>', 'tha', 'e', 'fhèin', \"'\", 'dol', 'a', 'dh’', 'fheuchainn', 'às', '</s>'], ['<s>', 'tha', 'Johnson', 'còmhla', 'ris', 'air', 'an', 'loighne', 'ann_an_seo', '</s>'], ['<s>', 'Johnson', \"a'\", 'gluasad', 'suas', '</s>'], ['<s>', 'Johnson', 'air', 'an', 'loighne', '</s>'], ['<s>', \"'s\", 'tha', 'e', 'tha', 'e', \"a'\", 'cumail', 'a-muigh', 'is', \"a'\", 'feitheamh', '</s>'], ['<s>', 'MacClare', 'còmhla', 'ris', '</s>'], ['<s>', 'tha', 'e', \"'ga\", 'feuchainn', 'tè', 'àrd', 'a-null', '</s>'], ['<s>', 'tha', 'Aitken', 'ann_an_siud', 'e', 'fhèin', 'agus', 'Stanoykavitch', 'an', 'dithist', 'aca', \"a'\", 'ruith', 'airson', 'a’', 'bhall', '</s>'], ['<s>', 'ach', \"'se\", 'Aitken', '</s>'], ['<s>', 'a', 'fhuair', 'e', '</s>'], ['<s>', 'ach', 'tha', 'an', 'rèitire', 'ag', 'ràdh', '</s>'], ['<s>', 'gu', 'robh', 'e', \"a'\", 'draghadh', 'an', 'duine', '</s>'], ['<s>', 'bha', 'roimhe', '</s>'], ['<s>', 'agus', 'gur', 'e', 'droch', 'chluich', '</s>'], ['<s>', 'a', 'bha', 'siud', '</s>'], ['<s>', 'buille', 'shaor', 'do', 'Yugoslavia', 'air', 'a', 'gabhail', 'gu', 'luath', '</s>'], ['<s>', 'am', 'ball', 'ann_an_siud', 'aig', 'an', 'fhear', 'ghlèidhidh', 'Aikovitch', '</s>'], ['<s>', '[2]', \"'se\", '</s>'], ['<s>', 'a', 'thachair', 'an_siud', 'Aonghais', 'dìreach', '</s>'], ['<s>', 'gu', 'robh', 'MacLare', 'agus', 'Johnson', 'ro', 'dhlùth', 'ri', 'chèile', '</s>'], ['<s>', 'agus', 'tha', 'iad', 'thall', 'air', 'an', 'iomall', '[?]', 'fhios', 'aca', 'fhèin', '</s>'], ['<s>', 'cha', 'd’', 'fhuair', 'na', 'cluicheadairean', 'meadhon', 'suas', 'gu', 'bocsa', 'a’', 'pheanais', 'tràth', 'gu', 'leòr', 'agus', 'fiù', \"'s\", '</s>'], ['<s>', \"'air\", 'a', 'fhuair', 'dìreach', '</s>'], ['<s>', 'bha', 'Aitken', \"a'\", 'dèanamh', 'cus', 'putadh', 'airson', 'am', 'ball', 'aige', 'fhaighinn', 'às', '</s>'], ['<s>', '[2]', 'agus', 'tha', 'sinn', \"a'\", 'cluinntinn', '</s>'], ['<s>', 'gu', 'bheil', 'dà', 'thadhal', 'gach', 'taobh', 'aig', \"a'\", 'Chuimrigh', 'agus', 'aig', 'Fionnlainn', '</s>'], ['<s>', 'sin', \"a'\", 'Chuimrigh', 'agus', 'Fionnlainn', 'dà', 'thadhal', 'aig', 'gach', 'taobh', '</s>'], ['<s>', 'agus', 'ann_an_seo', 'le', 'dà', 'mhionaid', 'deug', 'thar', 'fhichead', 'air', 'a', 'dhol', 'dhan', 'a’', 'cheud', 'leth', 'tha', 'aon', 'tadhal', 'aig', 'Alba', '</s>'], ['<s>', 'chan', 'eil', 'gin', 'aig', 'Yugoslavia', '</s>'], ['<s>', 'am', 'ball', 'aca', 'ge-tà', 'aig', 'Yugoslavia', 'aig', 'Stoykavitch', '</s>'], ['<s>', 'Stoykavich', \"a'\", 'feuchainn', 'ri', 'Spasitch', 'a', 'chur', 'air_falbh', 'an', 'taobh-sa', 'dhen', 'a’', 'phàirc', '</s>'], ['<s>', 'Spasitch', \"a'\", 'ruith', 'leatha', 'Gough', \"a'\", 'ruith', 'còmhla', 'ris', \"a'\", 'dol', '[?]', 'an_toiseach', '</s>'], ['<s>', 'agus', 'chuir', 'e', 'mach', 'i', 'ann_an_siud', 'gun', 'dragh', 'sam_bith', '</s>'], ['<s>', 'agus', \"'s\", 'e', 'sadadh_a-steach', '</s>'], ['<s>', 'a', \"th'\", 'ann', 'do', 'Yugoslavia', 'dìreach', 'mu', 'choinneimh', 'loighne', 'ochd', 'slat', 'a', 'deug', 'aig', 'Alba', '</s>'], ['<s>', 'Spasitch', 'fhèin', \"'\", 'dol', 'dha', 'ghabhail', 'ma-thà', '</s>'], ['<s>', 'tha', 'e', \"'ga\", 'cur', 'gu', 'Bostardavitch', '</s>'], ['<s>', 'Bostardavitch', \"a'\", 'feuchainn', 'ri', 'a', 'tionndadh', 'a-steach', '</s>'], ['<s>', 'Stoykavitch', \"a'\", 'feitheamh', 'ann_an_siud', '</s>'], ['<s>', 'agus', 'Bett', \"a'\", 'feitheamh', 'aig', \"a'\", 'pole', '</s>'], ['<s>', \"'s\", 'chuir', 'esan', 'air', 'ais', 'a-steach', 'gu', 'Gorem', 'i', '</s>'], ['<s>', 'Gorem', 'ma-thà', \"a'\", 'sruighleadh', 'a-mach', '</s>'], ['<s>', 'mar', 'a', 'gheibh', 'e', 'cothrom', '</s>'], ['<s>', 'agus', 'buille', 'suas', 'meadhan', 'na', 'pàirce', 'a-nise', 'suas', 'gu', '</s>'], ['<s>', 'fad', \"'s\", 'a', 'bheil', 'MacLare', '</s>'], ['<s>', 'dh’', 'fheuch', 'MacLare', 'a', 'toirt', 'a-nuas', '</s>'], ['<s>', 'ach', 'se', 'Svetkovitch', '</s>'], ['<s>', 'a', 'choinnich', 'i', '</s>'], ['<s>', 'Ruyovitch', 'i', '</s>'], ['<s>', 'Ruyovitch', 'dìreach', 'air', 'làmh', 'bucas', 'Alba', 'le', 'Gough', 'mu', 'choinneimh', '</s>'], ['<s>', 'Ruyovitch', \"'ga\", 'cur', 'air', 'ais', 'gu', 'Bostardivitch', '</s>'], ['<s>', 'Bostardivitich', \"'ga\", 'feuchainn', 'a-steach', 'dhan', 'mheadhon', 'gu', 'Stoykavitich', '</s>'], ['<s>', 'Stoykavitch', 'leatha', 'fhathast', '</s>'], ['<s>', 'Stoykavitch', \"a'\", 'tionndadh', 'o', 'MacStay', '</s>'], ['<s>', 'Stoykavitch', \"a'\", 'dol', 'a', 'dh’', 'fheuchainn', 'buille', '</s>'], ['<s>', 'agus', 'bhuail', 'i', 'cluicheadair', 'Alba', '</s>'], ['<s>', 'agus', 'thàinig', 'i', 'gu', 'Gorem', '</s>'], ['<s>', 'ach', 'fhuair', 'e', 'grèim', 'orra', 'le', 'Stanoykavitch', \"a'\", 'ruith', 'a-steach', '</s>'], ['<s>', 'agus', 'shad', 'e', 'a-mach', 'gun', 'dàil', 'gu', 'Bett', 'air', 'taobh', 'thall', 'na', 'pàirce', '</s>'], ['<s>', 'Bett', \"a'\", 'gluasad', 'suas', 'le', 'Stoykavitch', 'mu', 'choinneimh', '</s>'], ['<s>', 'fhuair', 'e', 'seachad', 'air', 'Stoykavitch', '</s>'], ['<s>', 'tha', 'nise', 'Rodanovitch', 'còmhla', 'ris', \"a'\", 'feuchainn', 'a-steach', 'dhan', 'mheadhan', 'i', 'gu', 'MacLare', '</s>'], ['<s>', 'MacLare', 'air', 'ais', 'gu', 'Aitken', '</s>'], ['<s>', 'Aitken', \"'ga\", 'feuchainn', 'a-null', 'dhan', 'taobh-sa', 'dhen', 'phàirce', 'gu', 'Johnson', '</s>'], ['<s>', 'fhuair', 'Johnson', 'thuice', 'an_toiseach', '</s>'], ['<s>', 'thàinig', 'i', 'air', 'ais', 'gu', 'MacLare', '</s>'], ['<s>', 'MacLare', 'a-nis', 'le', 'dithis', 'daoine', 'o', 'Yugoslavia', '</s>'], ['<s>', 'fhuair', 'e', 'seachad', 'air', 'Hastybegitch', '</s>'], ['<s>', 'agus', 'dh’', 'fheuch', 'esan', 'a-steach', 'dhan', 'mheadhan', 'i', '</s>'], ['<s>', 'ach', 'choinnich', 'Rodanovitch', 'i', 'an_toiseach', '</s>'], ['<s>', 'fhuair', 'e', 'am', 'ball', 'air', 'ais', '</s>'], ['<s>', 'choinnich', 'MacStay', 'i', 'ged-tà', '</s>'], ['<s>', 'agus', 'dh’', 'fheuch', 'iad', '</s>'], ['<s>', 'dh’', 'fheuch', 'iad', 'ri', 'a', 'faighinn', 'seachad', 'ann_a-sin', 'air', 'Yositch', '</s>'], ['<s>', 'agus', 'chaidh', 'a', 'thoirt', 'a-nuas', '</s>'], ['<s>', 'tha', 'bha', '[?]', 'air', 'an', 'talamh', '</s>'], ['<s>', 'agus', 'siud', 'a’', 'chiad', 'ainm', 'dhan', 'leabhar', '</s>'], ['<s>', \"'se\", 'Yositch', '</s>'], ['<s>', 'a', \"bh'\", 'ann', '</s>'], ['<s>', 'rug', 'e', '[?]', 'MacStay', 'ann_an_siud', '</s>'], ['<s>', 'agus', 'tha', 'a’', 'bhròg', 'dhe', '</s>'], ['<s>', '[2]', \"'se\", 'ceist', '</s>'], ['<s>', \"'se\", 'droch', '[?]', 'dha-rìreabh', '</s>'], ['<s>', 'a', 'bha', 'siud', 'Aonghais', '</s>'], ['<s>', \"'s\", 'dòcha', '</s>'], ['<s>', 'nach', 'robh', 'e', \"a'\", 'coimhead', 'cruaidh', '</s>'], ['<s>', 'ach', 'bha', 'a’', 'chas', 'aig', 'MacStay', 'air', 'an', 'talamh', '</s>'], ['<s>', \"'s\", 'e', \"'\", 'tionndadh', 'air_falbh', '</s>'], ['<s>', 'agus', 'chan', 'eil', 'fhios', \"a'm\", 'buileach', 'cinnteach', '</s>'], ['<s>', 'a', 'robh', 'e', \"a'\", 'feuchainn', '[?]', 'a', 'thoirt', 'a-nuas', '</s>'], ['<s>', 'ach', \"'se\", 'siud', '</s>'], ['<s>', 'buaidh', 'chruaidh', 'dha-rìribh', 'bha', 'siud', '</s>'], ['<s>', 'tha', 'mi', \"a'\", 'smaoineachadh', '[?]', '</s>'], ['<s>', \"'s\", 'dòcha', '</s>'], ['<s>', 'gum', 'biodh', 'e', 'air', 'a', 'phrannadh', 'gu', 'dona', 'ann_a_shiud', '</s>'], ['<s>', '[1]', 'tha', 'fear', 'taic', 'Alba', 'a', '</s>'], ['<s>', 'tha', 'e', 'a-muigh', \"a'\", 'sealltainn', 'air', 'MacStay', '</s>'], ['<s>', 'tha', 'MacStay', \"a'\", 'cur', 'a', 'bhròg', 'air', 'ais', '</s>'], ['<s>', 'cha', 'chreid', 'mi', '</s>'], ['<s>', 'nach', 'eil', 'a_h-uile', 'duine', 'aca', 'timcheall', 'airson', 'facal', 'beag', 'air_choireigin', 'fhaighinn', 'ris', '</s>'], ['<s>', 'Nicholl', 'agus', 'Gough', 'cuideachd', '</s>'], ['<s>', 'tha', 'MacStay', \"a'\", 'cur', 'a', 'bhròg', 'air', 'air', 'ais', '</s>'], ['<s>', 'tha', 'e', \"'\", 'coimhead', 'an', 'ìre', 'mhath', '</s>'], ['<s>', 'tha', 'e', 'air', 'ais', 'an-àird', '</s>'], ['<s>', 'chan', 'eil', 'e', 'cuagach', 'no', 'càil', '</s>'], ['<s>', 'feumaidh', 'e', 'a', 'bhith', '</s>'], ['<s>', 'gu', 'bheil', 'e', 'ceart', 'gu', 'leòr', '</s>'], ['<s>', 'MacStay', 'agus', 'Nicholl', 'le', 'buille', 'shaor', 'ma-thà', 'timcheall', 'air', 'fichead', 'slat', 'air', 'taobh', 'a-muigh', 'bucas', 'Yugoslavia', '</s>'], ['<s>', 'a', '-', 'rèir', 'choltais', \"'se\", 'MacStay', 'fhèin', '</s>'], ['<s>', 'a', 'tha', \"'\", 'dol', 'dha', 'gabhail', '</s>'], ['<s>', '[1]', 'Nicholl', \"a'\", 'ruith', '</s>'], ['<s>', 'ach', 'se', 'MacStay', '</s>'], ['<s>', 'a', 'tha', \"'\", 'dol', 'dha', 'gabhail', '</s>'], ['<s>', 'MacStay', 'ga', 'feuchainn', 'agus', 'Nicholl', 'a-steach', '</s>'], ['<s>', 'thàinig', 'Gough', 'a-steach', 'air', 'an', 'taobh', 'thall', 'ann_a-siud', 'gun', 'duine', 'toirt', 'sùil', 'sam_bith', 'air', '</s>'], ['<s>', 'ach', 'tha', 'am', 'ball', 'aig', 'Yugoslavia', 'air', 'taobh', 'thall', 'na', 'pàirce', '</s>'], ['<s>', 'am', 'ball', 'aig', 'Yositch', 'a-nis', '</s>'], ['<s>', 'Yositch', 'gu', 'Bostardavitch', '</s>'], ['<s>', 'tha', 'esan', \"a'\", 'feuchainn', 'tè', 'sìos', '</s>'], ['<s>', 'tè', 'luath', 'sìos', 'gu', 'Svetgovitch', '</s>'], ['<s>', 'Svetgovitch', \"a'\", 'gluasad', 'a-steach', 'air', 'Gorem', '</s>'], ['<s>', 'agus', 'fhuair', 'Gorem', 'i', 'le', 'Miller', 'cuideachd', '</s>'], ['<s>', 'fhuair', 'Miller', 'a', 'chas', 'thuice', 'an_toiseach', '</s>'], ['<s>', 'agus', 'fhuair', 'Gorem', 'grèim', 'oirre', 'an_uair_sin', 'le', 'Svetgovitch', \"a'\", 'ruith', 'ann_an_siud', 'dìreach', 'mar', 'trèan', 'a', 'Mhurchaidh', '</s>'], ['<s>', '[2]', 'siud', 'dìreach', 'dha-rìribh', 'e', 'Aonghas', '</s>'], ['<s>', 'cuideachd', 'chunnaic', 'sinn', 'an', 'eisimpleir', 'as', 'fhearr', 'dhen', 'chluiche', 'aig', 'Willie', 'Miller', '</s>'], ['<s>', 'bha', 'a_h-uile', 'duine', \"a'\", 'smaoineachadh', '</s>'], ['<s>', 'gun', 'robh', 'cluicheadairean', 'Yugoslavia', 'air', 'a', 'dhol', 'troimhe', 'fada', 'agus', 'dìreach', \"a'\", 'dol', 'a', '</s>'], ['<s>', '[1]', 'am', 'ball', 'aig', 'Ryovitch', 'ann_a-siud', '</s>'], ['<s>', 'agus', 'tha', 'fhios', '</s>'], ['<s>', \"g'\", 'eil', 'Gough', \"a'\", 'dol', 'troimh-chèile', 'ann_an_siud', '</s>'], ['<s>', 'ruith', 'Gough', 'air', 'a', 'bheulaibh', '</s>'], ['<s>', 'agus', 'chan', 'eil', 'teagamh', 'aig', 'an', 'rèitire', '</s>'], ['<s>', 'nach', 'e', 'droch', 'chluich', 'a', 'bha', 'siud', 'aig', 'Gough', '</s>'], ['<s>', 'gun', 'deach', 'a', 'chas', \"'sa\", 'rathad', 'air', 'a', 'dh’', 'aona-ghnothaich', '</s>'], ['<s>', '[2]', 'tha', 'mi', \"a'\", 'smaoineachadh', '</s>'], ['<s>', 'gu', 'bheil', 'sin', 'ceart', '</s>'], ['<s>', 'chan', 'eil', 'mi', 'cinnteach', '</s>'], ['<s>', 'an', 'robh', 'gu', 'robh', '</s>'], ['<s>', 'gu', 'robh', 'fios', 'aig', 'Ryovitch', '</s>'], ['<s>', 'dè', \"'n\", 'taobh', '</s>'], ['<s>', 'a', 'bha', 'e', 'fhèin', \"a'\", 'dol', 'nas', 'motha', '</s>'], ['<s>', 'dìreach', 'bhuail', 'iad', 'ri', 'chèile', 'agus', '[?]', '</s>'], ['<s>', '[1]', 'gu', 'dearbha', 'agus', 'thàinig', 'cluicheadairean', 'adhart', 'tha', 'seo', 'aig', 'Yugoslavia', 'gach', 'mac', 'màthar', 'aca', 'cho', 'luath', 'ri', '[?]', '</s>'], ['<s>', 'buille', 'shaor', 'ma-thà', 'do', 'Yugoslavia', 'le', 'Stoykavitch', 'os', 'an', 'ceann', '</s>'], ['<s>', 'agus', 'tha', 'dìreach', 'timcheall', 'air', 'deich', 'slat', 'a-muigh', 'gu', 'taobh', 'a-muigh', 'bucas', 'Alba', '</s>'], ['<s>', 'Alba', \"a'\", 'feuchainn', 'ri', 'buill', 'an', 'dìon', 'a', 'chur', 'an_àirde', '</s>'], ['<s>', 'Stoykavitch', 'leatha', 'ma-thà', '</s>'], ['<s>', 'Stoykavitch', \"a'\", 'feuchainn', 'oirre', '</s>'], ['<s>', 'agus', 'cha', 'mhòr', '</s>'], ['<s>', 'nach', 'robh', 'i', 'a-staigh', 'ann_an_siud', '</s>'], ['<s>', 'fhuair', 'Gorem', 'a', 'bhois', 'thuice', '</s>'], ['<s>', 'dìreach', \"'ar\", 'a', 'bha', 'i', 'dol', \"a'\", '</s>'], ['<s>', 'feuchainn', 'ri', 'dhol', 'a-steach', 'air', \"a'\", 'phost', 'a', 'Mhurchaidh', '</s>'], ['<s>', '[2]', 'uill', 'mar', 'a', 'mar', 'bha', 'siud', \"a'\", 'dol', 'a-steach', '</s>'], ['<s>', 'tha', 'e', 'doirbh', 'a', 'ràdh', '</s>'], ['<s>', \"'se\", 'seo', '</s>'], ['<s>', 'tha', 'mi', \"a'\", 'smaoineachadh', '</s>'], ['<s>', 'gun', 'robh', '[?]', '</s>'], ['<s>', 'bha', 'e', 'faisg', 'air', 'a’', 'bhall', 'co-dhiubh', '</s>'], ['<s>', '[1]', 'buille', 'bhon', 'oisean', 'ma-thà', 'do', 'Yugoslavia', '</s>'], ['<s>', 'tè', 'àrd', 'a-null', 'dhan', '[?]', '</s>'], ['<s>', 'agus', 'fhuair', 'Yugoslavia', 'i', '</s>'], ['<s>', \"'s\", 'tha', 'e', 'a-staigh', 'tadhal', 'ann_an_siud', 'do', 'Yugoslavia', '</s>'], ['<s>', 'agus', \"'se\", 'Katernetch', '</s>'], ['<s>', 'a', 'fhuair', 'an', 'tadhal', 'do', 'Yugoslavia', '</s>'], ['<s>', 'aon', 'tadhal', 'gach', 'a', 'taobh', 'a-nise', '</s>'], ['<s>', '[2]', 'uill', 'bha', 'siud', 'mì-fhortanach', 'dha-rìribh', '</s>'], ['<s>', 'thàinig', 'am', 'ball', 'tarsainn', '</s>'], ['<s>', 'agus', 'chaidh', '...', '</s>'], ['<s>', 'ach', 'chan', 'eil', 'mi', 'cinnteach', '</s>'], ['<s>', 'cò', \"'m\", 'fear', 'aca', '</s>'], ['<s>', 'a', \"bh'\", 'ann', '[?]', 'i', 'air', 'an', 'loidhnidh', '</s>'], ['<s>', 'thàinig', 'e', 'a-mach', '</s>'], ['<s>', 'cha', 'deach', '</s>'], ['<s>', 'cha', 'dàinig', 'e', 'a-mach', 'ach', 'mu', 'dhà', 'shlat', 'no', 'mar', 'sin', '</s>'], ['<s>', 'agus', 'bhuail', 'e', 'a-steach', 'i', 'a-rithist', '</s>'], ['<s>', 'bhuail', 'e', '</s>'], ['<s>', 'tha', 'mi', \"a'\", 'smaoineachadh', '</s>'], ['<s>', 'gur', 'e', 'Nicholl', '</s>'], ['<s>', 'a', \"bh'\", 'ann', 'air', 'an', 'loidhnidh', '</s>'], ['<s>', 'ach', 'chaidh', 'e', 'a-steach', '</s>'], ['<s>', 'chaidh', 'e', 'seachad', 'air', 'an', 'loidhnidh', 'bho', '[?]', '</s>'], ['<s>', 'tha', 'mi', \"a'\", 'smaoineachadh', '[?]', '</s>'], ['<s>', 'tha', 'e', 'doirbh', 'a', 'ràdh', '</s>'], ['<s>', 'bha', 'am', 'ball', \"a'\", 'dol', 'aig', 'astar', '</s>'], ['<s>', 'a', 'bha', 'uabhasach', '</s>'], ['<s>', 'ach', 'tha', 'siud', 'ann_an', 'dòigh', 'glè', 'choltach', 'ris', 'an', 'tadhal', 'an', 'dòigh', '</s>'], ['<s>', \"'san\", 'deach', 'i', 'a-steach', 'co-dhiubh', 'ris', 'an', 'tadhal', '</s>'], ['<s>', 'a', 'fhuair', 'iad', 'an', 'aghaidh', 'an', 'Nirribhidh', '</s>'], ['<s>', '[1]', 'tha', 'timcheall', 'air', 'ochd', 'mionaidean', 'ri', 'dhol', 'dhen', 'a’', 'chiad', 'leth', '</s>'], ['<s>', 'aon', 'tadhal', 'gach', 'a', 'taobh', 'ann_an_seo', 'aon', 'tadhal', 'aig', 'Alba', 'aon', 'aig', 'Yugoslavia', '</s>'], ['<s>', 'fhuair', 'Johnson', 'tadhal', 'do', 'dh’', 'Alba', 'agus', 'Katernetch', 'an', 'tadhal', 'ud', 'dìreach', 'bho', 'chionn', 'mhionaid', 'do', 'Yugoslavia', '</s>'], ['<s>', 'am', 'ball', 'ge-tà', \"'ga\", 'feuchainn', 'a-null', 'gu', 'Bett', '</s>'], ['<s>', 'ach', 'thàinig', 'i', 'gu', 'Yositch', '</s>'], ['<s>', 'chuir', 'Yositch', 'air', 'ais', 'gu', 'Etkovitch', 'do', 'fear-glèidhidh', 'Yugoslavia', '</s>'], ['<s>', 'am', 'ball', 'aig', 'Etkovitch', 'ma-thà', '</s>'], ['<s>', 'tha', 'e', \"'\", 'dol', 'a', 'dh’', 'fheuchainn', 'buille', 'àrd', 'suas', 'leatha', 'suas', 'meadhon', 'na', 'pàirce', 'leatha', 'gu', '</s>'], ['<s>', 'fad', \"'s\", 'a', 'bheil', 'Svetkovitch', '</s>'], ['<s>', 'Svetkovitch', 'e', 'fhèin', 'agus', 'MacLeish', '</s>'], ['<s>', \"'se\", 'MacLeish', '</s>'], ['<s>', 'a', 'fhuair', 'a', 'cheann', 'thuice', 'an_toiseach', '</s>'], ['<s>', 'agus', 'chaidh', 'i', 'a-mach', 'air', 'taobh', 'thall', 'na', 'pàirce', '</s>'], ['<s>', \"'s\", \"'se\", 'sadadh_a-steach', '</s>'], ['<s>', 'a', 'bhios', 'ann', 'do', 'Yugoslavia', '</s>'], ['<s>', 'Stoykavitch', \"a'\", 'dol', 'dha', 'feuchainn', 'ma-thà', '</s>'], ['<s>', 'dh’', 'fheuch', 'esan', 'gu', 'math', 'luath', 'gu', 'Svetkovitch', 'i', 'air', 'ais', 'gu', 'Stoykavitch', '</s>'], ['<s>', 'Stoykavitch', \"a'\", 'gluasad', 'a-steach', 'air', 'a’', 'bhucas', \"a'\", 'feuchainn', 'tè', 'àrd', 'a-null', 'dhan', 'an', 'taobh-sa', 'gu', 'Katernetch', '</s>'], ['<s>', 'Katernetch', 'fhuair', 'e', 'a', 'cheann', 'thuice', '</s>'], ['<s>', 'thàinig', 'i', 'gu', 'Spasitch', '</s>'], ['<s>', 'Spasitich', \"a'\", 'feuchainn', 'tè', 'àrd', '</s>'], ['<s>', 'chan', 'eil', 'cunnart', 'sam_bith', 'ann_an_siud', 'do', 'dh’', 'Alba', '</s>'], ['<s>', 'ach', 'dh’', 'fhaodadh', 'a', 'Mhurchaidh', 'a-siud', 'tè', 'eile', 'a', 'bhith', 'aca', '</s>'], ['<s>', '[2]', 'bha', '</s>'], ['<s>', \"'se\", 'an', 'rud', '</s>'], ['<s>', 'a', 'tha', 'iad', \"a'\", 'dèanamh', 'a-nise', 'uill', \"a's\", 'an', 't-', 'suidheachadh', '</s>'], ['<s>', 'a', \"th'\", 'ann', 'an', 'aon', 'suidheachadh', 'co-dhiubh', '</s>'], ['<s>', \"'se\", '</s>'], ['<s>', 'gu', 'bheil', 'iad', \"a'\", 'bualadh', 'a’', 'bhall', 'tarsainn', 'àrd', 'o', 'aon', 'taobh', 'dhen', 'a’', 'phàirce', 'chun', 'an', 'taobh', 'eile', 'agus', \"a's\", 'an', 't-', 'suidheachadh', '</s>'], ['<s>', 'a', 'tha', 'ann_an_siud', '</s>'], ['<s>', 'chaidh', '</s>'], ['<s>', 'tha', 'mi', \"a'\", 'smaoineadh', '</s>'], ['<s>', 'gur', 'e', 'Gough', 'agus', 'Gough', 'agus', 'MacLeish', 'an-àird', 'airson', 'a’', 'bhall', 'aig', 'an', 'aon', 'àm', '</s>'], ['<s>', 'agus', '[?]', 'agus', 'an', 'dithis', 'aca', 'air', 'an', 'talamh', '</s>'], ['<s>', 'bha', '</s>'], ['<s>', \"'se\", 'cluicheadair', '</s>'], ['<s>', \"'se\", 'cluicheadair', 'Yugoslavia', '</s>'], ['<s>', 'a', 'fhuair', 'an', 'cothrom', 'an_toiseach', '</s>'], ['<s>', '[1]', 'am', 'ball', 'aig', 'Spasitch', 'ma-thà', 'e', 'fhèin', 'agus', 'Johnson', 'an', 'ìre', 'mhath', \"a'\", 'sabaid', 'air', 'a', 'son', '</s>'], ['<s>', 'ach', \"'se\", 'Gough', '</s>'], ['<s>', 'a', 'fhuair', 'a', 'chas', 'thuige', 'mu_dheireadh', '</s>'], ['<s>', 'am', 'ball', 'aig', 'Spasitch', '</s>'], ['<s>', 'Spasitch', \"'ga\", 'feuchainn', 'a-steach', 'dhan', 'a’', 'mheadhan', 'gu', 'Stoykavitch', '</s>'], ['<s>', 'tha', 'esan', \"'ga\", 'feuchainn', 'ri', 'a', 'fàgail', '</s>'], ['<s>', 'ach', 'choinnich', 'Malpas', 'i', '</s>'], ['<s>', 'Malpas', 'gu', 'Bett', '</s>'], ['<s>', 'Bett', 'air', 'ais', 'gu', 'Malpas', '</s>'], ['<s>', 'ach', 'fìor', 'dhroch', 'bhall', '</s>'], ['<s>', 'a', 'bha', 'siud', '</s>'], ['<s>', 'ach', 'chaidh', 'i', 'gu', 'Yugoslavia', '</s>'], ['<s>', 'agus', 'thàinig', 'i', 'mu_dheireadh', 'gu', 'Nicholl', '</s>'], ['<s>', 'Nicholl', 'leatha', 'meadhan', 'leth', 'Alba', '</s>'], ['<s>', 'Nicholl', \"a'\", 'gluasad', 'a-mach', 'leatha', '</s>'], ['<s>', 'Nicholl', 'suas', 'aig', 'a’', 'chearcall', 'meadhan', '</s>'], ['<s>', 'chan', 'eil', 'duine', 'aige', '</s>'], ['<s>', 'chuir', 'e', 'air', 'ais', 'gu', 'Gough', 'i', '</s>'], ['<s>', 'Gough', \"a'\", 'sealltainn', '</s>'], ['<s>', 'cò', \"th'\", 'aigesan', '</s>'], ['<s>', 'Gough', \"a'\", 'feuchainn', 'tè', 'àrd', 'suas', 'gu', '</s>'], ['<s>', 'fad', \"'s\", 'a', 'bheil', 'Johnson', '</s>'], ['<s>', 'ach', 'tha', 'Yositch', 'ann_an_siud', 'còmhla', 'ris', '</s>'], ['<s>', 'agus', 'choinnich', 'Johnson', 'i', '</s>'], ['<s>', \"'s\", 'chuir', 'e', 'a-mach', 'i', '</s>'], ['<s>', 'agus', \"'se\", 'sadadh_a-steach', '</s>'], ['<s>', 'a', 'bhios', 'ann', 'do', 'dh’', 'Alba', 'dìreach', 'lethach', 'slighe', 'a-steach', 'air', 'taobh', 'leth', 'Yugoslavia', 'Alba', \"a'\", 'cluich', 'bhon', 'a’', 'làmh', 'chlì', 'gun', 'a’', 'làmh', 'dheis', '</s>'], ['<s>', 'mar', 'a', 'tha', 'sinn', \"a'\", 'coimhead', 'air', '</s>'], ['<s>', 'agus', \"'se\", 'Nicholl', 'fhèin', '</s>'], ['<s>', 'a', 'tha', \"'\", 'dol', 'dha', 'gabhail', '</s>'], ['<s>', 'Nicholl', 'leatha', '[?]', \"a'\", 'ruith', 'air', 'a', 'shon', '</s>'], ['<s>', 'tha', 'Johnson', 'Johnson', 'dìreach', 'air', 'oir', 'a’', 'bhucais', \"'ga\", 'cur', 'air', 'ais', 'gu', 'Nicholl', '</s>'], ['<s>', 'Nicholl', 'tè', 'àrd', 'a-null', '</s>'], ['<s>', 'agus', 'tha', 'Aitken', 'ann_an_siud', '</s>'], ['<s>', \"'s\", 'fhuair', 'e', 'a', 'cheann', 'thuice', '</s>']]\n"
     ]
    }
   ],
   "source": [
    "# arcosg.sents('c01.txt')\n",
    "# sentences = load_file(data_file='c01.txt')\n",
    "sentences = load_file()\n",
    "print(sentences)"
   ]
  },
  {
   "cell_type": "code",
   "execution_count": 5,
   "metadata": {},
   "outputs": [
    {
     "output_type": "stream",
     "name": "stdout",
     "text": [
      "<s>             0.10013965710505522\n</s>            0.10013965710505522\na               0.0372388320255793\nan              0.02410003858946324\nair             0.019983829177309394\n,               0.018256491298994836\ne               0.016850732281004796\n.               0.016694536834561458\na'              0.014177033756592367\ntha             0.014112717984527463\nagus            0.013846266928830004\nna              0.012532387585218399\ngu              0.010391591172200886\na’              0.008857200610081039\nbha             0.0087010051636377\n's              0.008691817196199856\niad             0.007910839963983167\nach             0.005751667616089968\nrobh            0.005163637700067991\naig             0.005062570058251714\nann             0.004952314448997593\nsin             0.0046031716863595435\ni               0.004456164207354049\ndo              0.004281592826035024\n\"               0.004208089086532277\nam              0.0041253973795916865\ngun             0.004107021444716\nmi              0.004061081607526783\n[1]             0.00367518697513736\nnach            0.003601683235634613\ndh’             0.0035557433984453957\neil             0.003518991528694022\n?               0.003445487789191275\nTha             0.003261728440434407\nmar             0.00321578860324519\nh-              0.0031698487660559733\n[2]             0.0031606607986181296\nri              0.0031514728311802863\nbheil           0.0030871570591153824\nann_an          0.003004465352174792\ncha             0.0029952773847369486\nseo             0.002875833808044984\nis              0.002802330068542237\nchan            0.0027839541336665504\nt-              0.0027747661662287067\n[Name]          0.0026920744592881162\nbhith           0.002591006817471839\n-               0.0025634429151583085\nag              0.0024899391756555613\n'               0.002416435436152814\n"
     ]
    }
   ],
   "source": [
    "unigrams = [ug for sent in sentences for ug in sent]\n",
    "\n",
    "unigram_fdist = nltk.FreqDist(unigrams)\n",
    "\n",
    "unigram_count = len(unigrams)\n",
    "for ug, freq in unigram_fdist.most_common(50): \n",
    "    print(f\"{str(ug):<15} {freq/unigram_count}\")"
   ]
  },
  {
   "cell_type": "code",
   "execution_count": 6,
   "metadata": {},
   "outputs": [
    {
     "output_type": "stream",
     "name": "stdout",
     "text": [
      "('.', '</s>')                  0.9372592184920198\n('<s>', 'a')                   0.11771722176346454\n('<s>', 'agus')                0.08523717772272686\n(',', '</s>')                  0.41821841972823354\n('<s>', \"'s\")                  0.04459124690338563\n('a', 'tha')                   0.10066617320503331\n('<s>', '[1]')                 0.036700614735296816\n('<s>', 'ach')                 0.03615010551426737\n('a', 'bha')                   0.09696521095484827\n('<s>', 'tha')                 0.03211303789338472\n('<s>', '[2]')                 0.03156252867235526\n('?', '</s>')                  0.8826666666666667\n('<s>', 'Tha')                 0.029085237177722725\n('air', 'an')                  0.13655172413793104\n('<s>', 'gu')                  0.02559867877786953\n('<s>', 'nach')                0.025139921093678318\n('<s>', 'gun')                 0.02477291494632535\n('na', 'h-')                   0.18475073313782991\n('<s>', '[3]')                 0.02284613267272227\n('an', 't-')                   0.08959207014868471\n('air', 'a')                   0.10666666666666667\n('a', 'bhith')                 0.05699481865284974\n('chan', 'eil')                0.7194719471947195\n('tha', 'e')                   0.1328125\n('<s>', '“')                   0.017249288925589502\n('ann', '</s>')                0.3432282003710575\n('gu', 'bheil')                0.15649867374005305\n(',', '\"')                     0.08706592853548062\n('e', '</s>')                  0.09378407851690294\n('<s>', '[4]')                 0.015414258188824663\n('<s>', 'bha')                 0.015322506651986421\n('<s>', 'Bha')                 0.014313239746765759\n('mar', 'a')                   0.43142857142857144\n('tha', 'mi')                  0.09700520833333333\n('\"', '</s>')                  0.3231441048034934\n('bha', 'e')                   0.15522703273495247\n('nuair', 'a')                 0.9605263157894737\n('agus', 'tha')                0.0962176509621765\n(\"a'\", 'dol')                  0.09073233959818536\n('a', 'dh’')                   0.034048852701702444\n('<s>', 'is')                  0.012478209010000917\n('cha', 'robh')                0.41411042944785276\n('air', 'ais')                 0.060689655172413794\n('ràdh', '</s>')               0.7182320441988951\n('<s>', '[5]')                 0.011927699788971464\n('<s>', 'mar')                 0.011560693641618497\n('a', 'chur')                  0.0308413520848754\n('<s>', 'gum')                 0.01082668134691256\n('sin', '</s>')                0.23552894211576847\n('air', 'a’')                  0.05333333333333334\n('a', 'bheil')                 0.02837404391808537\n('gu', 'math')                 0.10079575596816977\n('iad', \"a'\")                  0.13124274099883856\n('<s>', 'chan')                0.010276172125883108\n(\"'s\", 'e')                    0.11839323467230443\n('<s>', 'gur')                 0.010092669052206625\n('a', \"bh'\")                   0.02689365901801135\n('ars’', 'esan')               0.726027397260274\n('a', 'thoirt')                0.02615346656797434\n('ag', 'ràdh')                 0.3874538745387454\n('a', 'dhèanamh')              0.025660004934616332\n('gu', 'robh')                 0.09195402298850575\n('i', '</s>')                  0.21443298969072164\n('nach', 'eil')                0.2602040816326531\n('<s>', 'nuair')               0.009358656757500689\n('bha', 'iad')                 0.10665258711721225\n('<s>', 'cha')                 0.009083402146985962\n('a', \"th'\")                   0.02442635085122132\n('[?]', '</s>')                0.48058252427184467\n('aig', 'an')                  0.17604355716878403\n('air', '</s>')                0.04275862068965517\n('e', \"a'\")                    0.05070883315158124\n('tha', 'an')                  0.059244791666666664\n('e', 'air')                   0.04907306434023991\n('tha', 'iad')                 0.057942708333333336\n('gun', 'robh')                0.19910514541387025\n('anns', 'an')                 0.4494949494949495\n('iad', '</s>')                0.10220673635307782\n('robh', 'e')                  0.15480427046263345\n('mi', \"a'\")                   0.19457013574660634\n('<s>', 'Ach')                 0.007890632168088815\n('[Name]', '</s>')             0.2901023890784983\n('.', '\"')                     0.04678040726472207\n('<s>', '\"')                   0.007707129094412331\n('-', '</s>')                  0.2903225806451613\n('<s>', 'an')                  0.007431874483897605\n('nach', 'robh')               0.2066326530612245\n(\"'s\", 'a')                    0.08562367864693446\n('<s>', 'Cha')                 0.007431874483897605\n(\"a'\", 'tighinn')              0.05184705119896306\n('an', 'robh')                 0.030118185284025923\n('fhèin', '</s>')              0.3\n('[Name]', '[Name]')           0.26621160409556316\n('do', 'dh’')                  0.16738197424892703\n('a', 'chaidh')                0.018998272884283247\n('gur', 'e')                   0.5968992248062015\n('ach', 'tha')                 0.12140575079872204\n('<s>', 'Chaidh')              0.006881365262868153\n('dol', 'a')                   0.30833333333333335\n('<s>', 'na')                  0.006697862189191669\n"
     ]
    }
   ],
   "source": [
    "bigrams = [bg for sent in sentences for bg in nltk.bigrams(sent)]\n",
    "\n",
    "bigram_fdist = nltk.FreqDist(bigrams)\n",
    "\n",
    "bg_count = len(bigrams)\n",
    "for bg, freq in bigram_fdist.most_common(100): \n",
    "    probability = freq / unigram_fdist[bg[0]] # P(bg[1]|bg[0]) = count(bg) / count(bg[0])\n",
    "    print(f\"{str(bg):<30} {probability}\")"
   ]
  },
  {
   "cell_type": "code",
   "execution_count": 34,
   "metadata": {},
   "outputs": [
    {
     "output_type": "stream",
     "name": "stdout",
     "text": [
      "[('<s>', '<s>', '<s>', '<s>', '[3]'), ('<s>', '<s>', '<s>', '[3]', 'ach'), ('<s>', '<s>', '[3]', 'ach', 'bha'), ('<s>', '[3]', 'ach', 'bha', 'e'), ('[3]', 'ach', 'bha', 'e', 'neònach'), ('ach', 'bha', 'e', 'neònach', '</s>'), ('<s>', '<s>', '<s>', '<s>', 'nach'), ('<s>', '<s>', '<s>', 'nach', 'do'), ('<s>', '<s>', 'nach', 'do', 'test'), ('<s>', 'nach', 'do', 'test', 'iad'), ('nach', 'do', 'test', 'iad', 'na'), ('do', 'test', 'iad', 'na', '[?]'), ('test', 'iad', 'na', '[?]', 'leis'), ('iad', 'na', '[?]', 'leis', \"a'\"), ('na', '[?]', 'leis', \"a'\", 'vet'), ('[?]', 'leis', \"a'\", 'vet', '-'), ('leis', \"a'\", 'vet', '-', '</s>'), ('<s>', '<s>', '<s>', '<s>', 'cha'), ('<s>', '<s>', '<s>', 'cha', 'robh'), ('<s>', '<s>', 'cha', 'robh', 'duine')]\n"
     ]
    }
   ],
   "source": [
    "fivegrams = [fg for sent in sentences for fg in nltk.ngrams(['<s>' for _ in range(5-2)] + sent,5)]\n",
    "\n",
    "print(fivegrams[0:20])"
   ]
  },
  {
   "cell_type": "code",
   "execution_count": 8,
   "metadata": {},
   "outputs": [
    {
     "output_type": "stream",
     "name": "stdout",
     "text": [
      "('<s>', '<s>', 'a')                 0.11771722176346454\n('<s>', '<s>', 'agus')              0.08523717772272686\n('<s>', '<s>', \"'s\")                0.04459124690338563\n('<s>', '<s>', '[1]')               0.036700614735296816\n('<s>', '<s>', 'ach')               0.03615010551426737\n('<s>', '<s>', 'tha')               0.03211303789338472\n('<s>', '<s>', '[2]')               0.03156252867235526\n('<s>', '<s>', 'Tha')               0.029085237177722725\n('<s>', 'a', 'tha')                 0.2190179267342167\n('<s>', '<s>', 'gu')                0.02559867877786953\n('<s>', '<s>', 'nach')              0.025139921093678318\n('<s>', '<s>', 'gun')               0.02477291494632535\n('<s>', '<s>', '[3]')               0.02284613267272227\n('<s>', 'a', 'bha')                 0.16835541699142634\n('<s>', '<s>', '“')                 0.017249288925589502\n('<s>', '<s>', '[4]')               0.015414258188824663\n('<s>', '<s>', 'bha')               0.015322506651986421\n('<s>', 'gu', 'bheil')              0.5627240143369175\n('<s>', '<s>', 'Bha')               0.014313239746765759\n('<s>', 'agus', 'tha')              0.14854682454251883\n('<s>', '<s>', 'is')                0.012478209010000917\n('<s>', '<s>', '[5]')               0.011927699788971464\n('<s>', '<s>', 'mar')               0.011560693641618497\n('<s>', '<s>', 'gum')               0.01082668134691256\n('<s>', '<s>', 'chan')              0.010276172125883108\n('<s>', '<s>', 'gur')               0.010092669052206625\n('<s>', 'mar', 'a')                 0.8253968253968254\n('<s>', '<s>', 'nuair')             0.009358656757500689\n('<s>', 'a', \"bh'\")                 0.07872174590802807\n('<s>', '<s>', 'cha')               0.009083402146985962\n('<s>', 'nuair', 'a')               0.9411764705882353\n('<s>', 'gu', 'robh')               0.30824372759856633\n('<s>', '<s>', 'Ach')               0.007890632168088815\n('<s>', 'a', \"th'\")                 0.06625097427903351\n('<s>', '<s>', '\"')                 0.007707129094412331\n('.', '\"', '</s>')                  0.9882352941176471\n('<s>', 'chan', 'eil')              0.7410714285714286\n('<s>', '<s>', 'an')                0.007431874483897605\n('<s>', '<s>', 'Cha')               0.007431874483897605\n('<s>', 'gun', 'robh')              0.29259259259259257\n('<s>', 'tha', 'e')                 0.22285714285714286\n('ag', 'ràdh', '</s>')              0.7428571428571429\n('<s>', '<s>', 'Chaidh')            0.006881365262868153\n('<s>', '<s>', 'na')                0.006697862189191669\n('<s>', 'nach', 'eil')              0.25547445255474455\n('<s>', 'ach', 'tha')               0.17766497461928935\n('<s>', '<s>', 'dè')                0.006330856041838701\n('<s>', 'gur', 'e')                 0.6272727272727273\n('tha', 'mi', \"a'\")                 0.436241610738255\n('<s>', '<s>', 'Agus')              0.005963849894485732\n"
     ]
    }
   ],
   "source": [
    "trigrams = [tg for sent in sentences for tg in nltk.trigrams([\"<s>\"] + sent)]\n",
    "\n",
    "trigram_fdist = nltk.FreqDist(trigrams)\n",
    "\n",
    "# condition_pairs = (((w0, w1), w2) for w0, w1, w2 in trigrams)\n",
    "# trigram_probabilities = nltk.ConditionalFreqDist(condition_pairs)\n",
    "\n",
    "tg_count = len(trigrams)\n",
    "num_of_sents = len(sentences)\n",
    "for tg, freq in trigram_fdist.most_common(50): \n",
    "    if tg[:2] == (\"<s>\",\"<s>\"):\n",
    "        probability = freq / num_of_sents\n",
    "    else: \n",
    "        probability = freq / bigram_fdist[(tg[0],tg[1])] # P(tg[2]|tg[0],tg[1]) = count(tg) / count(tg[0],tg[1])\n",
    "    \n",
    "    print(f\"{str(tg):<35} {probability}\")"
   ]
  },
  {
   "cell_type": "code",
   "execution_count": 9,
   "metadata": {},
   "outputs": [],
   "source": [
    "num_sentences = 10\n",
    "max_sent_len = 30\n",
    "random.seed()\n",
    "\n",
    "def print_sentences(sent_list):\n",
    "    for sent, prob in sent_list:\n",
    "        for word in sent:\n",
    "            print(word,end=\" \")\n",
    "        print(\"\\nprobability of: \", prob)\n",
    "        print(\"\\n\\n\")\n",
    "\n",
    "def train_ngram(ngrams):\n",
    "    model = defaultdict(lambda: defaultdict(lambda: 0))\n",
    "\n",
    "    for ng in ngrams:\n",
    "        model[ng[:-1]][ng[-1]] += 1  # [(w1, w2, ... , wn-1)][wn]\n",
    "    \n",
    "    total_count = 0      \n",
    "    for hist in model: # hist = (w1, w2, ... , wn-1)\n",
    "        total_count = float(sum(model[hist].values()))\n",
    "        for w in model[hist]: # w = wn\n",
    "            model[hist][w] /= total_count\n",
    "    \n",
    "    return model\n",
    "\n",
    "def ngram_random_sentence(model, seed, n=50):\n",
    "    # how far are you looking back from current word; bigram -> 1, trigram -> 2, etc.\n",
    "    hist_size = len(seed) * -1\n",
    "\n",
    "    # max number of tries to get a value that is not <UNK>\n",
    "    max_tries = 100\n",
    "\n",
    "    # probability of the sentence\n",
    "    probability = 1.0\n",
    "\n",
    "    sentence = seed\n",
    "\n",
    "    while len(sentence) <= max_sent_len:\n",
    "        # hist_size number of words before current word\n",
    "        given = tuple(w for w in sentence[hist_size:])\n",
    "\n",
    "        # get n most probable next words from the model[given], P(word|given)\n",
    "        most_probable = heapq.nlargest(n, model[given].items(), key=operator.itemgetter(1))\n",
    "\n",
    "        # choose one (word, probability) pair\n",
    "        choice = random.choice(most_probable)\n",
    "\n",
    "        tries = 0\n",
    "        while choice[0] == \"<UNK>\" and tries <= max_tries:\n",
    "            choice = random.choice(most_probable)\n",
    "            most_probable = heapq.nlargest(n * 2, model[given].items(), key=operator.itemgetter(1))\n",
    "            tries += 1\n",
    "\n",
    "        sentence.append(choice[0])\n",
    "        probability *= choice[1]\n",
    "\n",
    "        if sentence[-1] == \"</s>\":\n",
    "            break\n",
    "\n",
    "\n",
    "    if not sentence[-1] == \"</s>\":\n",
    "        sentence.append(\"</s>\")\n",
    "    \n",
    "    return sentence, probability"
   ]
  },
  {
   "cell_type": "code",
   "execution_count": 10,
   "metadata": {},
   "outputs": [],
   "source": [
    "unigram_model = {}\n",
    "for ug, freq in unigram_fdist.most_common(200): \n",
    "    unigram_model[ug] = freq/unigram_count"
   ]
  },
  {
   "cell_type": "code",
   "execution_count": 11,
   "metadata": {},
   "outputs": [
    {
     "output_type": "stream",
     "name": "stdout",
     "text": [
      "<s> thàinig faighinn [3] gur buille cho . sìos obair againn buille bha mòr robh robh no sinn cur [2] a's ga ann 'n , bhiodh leis thàinig [2] ga fear </s> \nprobability of:  1.379615613644665e-85\n\n\n\n<s> sa le airson mi còmhla sam_bith sa aig cha chuir is rud feuchainn dol ag a-mach agus agus bhith nan fhathast ma sa air ùr leis gum ris bliadhna eadar </s> \nprobability of:  5.594245993586694e-85\n\n\n\n<s> ise Chaidh thuirt dhan mar idir nan 's mu Agus ' agus cò - Cha ma tu fhalbh mise thàinig suas fhalbh Cha seo ' seachad ars’ a nuair coimhead </s> \nprobability of:  1.0434749732705015e-87\n\n\n\n<s> 's is aige a_h-uile a's sin ’s dè sìos e às ò [Name] dè na anns ris math eadar fhéin sinn thall tha eil mise dè fear coimhead dòcha bho </s> \nprobability of:  7.035318291737444e-86\n\n\n\n<s> dh' sìos no dìreach de ; cò ma-thà bidh ais trì dòcha gun [Placename] mu duine robh ach Agus an-diugh [1] . bu ach an-diugh ais i o ’s dèanamh </s> \nprobability of:  1.3208946396880586e-88\n\n\n\n<s> [3] Agus iad gus robh , mar mise ràdh e 'na ma air [Placename] sinn ’s 'na toirt mar bidh deach Agus </s> \nprobability of:  2.9865763164712504e-63\n\n\n\n<s> </s> \nprobability of:  0.010027950925118037\n\n\n\n<s> bho [5] ann airson thoirt sam_bith dà mi no \" dòcha </s> \nprobability of:  2.6865603002050427e-33\n\n\n\n<s> thàinig iad do a-staigh Ach mise no coimhead fhuair chan dèanamh as chaidh toirt Alba dha fhèin cha is dol Iain bh' dèanamh ann_am aige daoine anns h- [1] daoine </s> \nprobability of:  1.4158114202119606e-87\n\n\n\n<s> anns co-dhiubh ; feumaidh dha latha cuideachd cur dhe eil sinn dà robh eil dòcha \" siud bha bha ach dh' [Name] fhathast no a-mach Cha gu math aca math </s> \nprobability of:  1.7993866138739963e-85\n\n\n\n"
     ]
    }
   ],
   "source": [
    "unigram_sentences = []\n",
    "\n",
    "def unigram_random_sentence(unigram_model):\n",
    "    probability = unigram_model[\"<s>\"]\n",
    "\n",
    "    sentence = [\"<s>\"]\n",
    "\n",
    "    while len(sentence) <= max_sent_len:\n",
    "        # choose one (word, probability) pair\n",
    "        choice = random.choice(list(unigram_model.items()))\n",
    "\n",
    "        while choice[0] == \"<s>\":\n",
    "            choice = random.choice(list(unigram_model.items()))\n",
    "        \n",
    "        sentence.append(choice[0])\n",
    "        probability *= choice[1]\n",
    "\n",
    "        if sentence[-1] == \"</s>\":\n",
    "            break\n",
    "\n",
    "    if not sentence[-1] == \"</s>\":\n",
    "        sentence.append(\"</s>\")\n",
    "        probability *= unigram_model[\"</s>\"]\n",
    "\n",
    "    return sentence, probability\n",
    "\n",
    "\n",
    "#generate the sentences\n",
    "for index in range(0,num_sentences):\n",
    "    test, probability = unigram_random_sentence(unigram_model)\n",
    "\n",
    "    unigram_sentences.append((test,probability))\n",
    "    \n",
    "#TODO: generate 10 sentences using the unigram model. Suppose maximum sentence length = 30\n",
    "    \n",
    "print_sentences(unigram_sentences)"
   ]
  },
  {
   "cell_type": "code",
   "execution_count": 12,
   "metadata": {},
   "outputs": [],
   "source": [
    "bigram_model = train_ngram(bigrams)"
   ]
  },
  {
   "cell_type": "code",
   "execution_count": 13,
   "metadata": {},
   "outputs": [
    {
     "output_type": "stream",
     "name": "stdout",
     "text": [
      "<s> Agus gu Bostardivitch gu Spasitch </s> \nprobability of:  6.407477641332326e-11\n\n\n\n<s> tha dol do dhuine a' tionndadh seachad na bha ann de dhà arbhar is b' àirde na gillean . 2 m ; ann_an Gàidhlig na cluicheadairean nas caime , Alasdair </s> \nprobability of:  1.905872252313277e-52\n\n\n\n<s> Bha seacaid aige , ri fichead agus bha air n- ais dha an taigh 'gan draibheadh a-nisd ga fheuchainn rudeigin òg 'ga leanail . 6 . \" mar dhearbhadh ? </s> \nprobability of:  2.367303544219488e-46\n\n\n\n<s> bha a’ bhàrdachd Mairearaid . \" feuch dé thuirt mi mo chadal . \" , Sir lain , bu luaithe </s> \nprobability of:  5.297608962291984e-32\n\n\n\n<s> ged b' fheàrr na Gaidhealtachd . 'S dòcha crìoch a chur gu Gorem grèim ... teine </s> \nprobability of:  6.162428820581238e-27\n\n\n\n<s> Ach nuair a leigeil ma_sgaoil . ” orra cuir iad ceart uidhir a chaidh air dà innse dha de lemon sole </s> \nprobability of:  1.0384685774243857e-33\n\n\n\n<s> dè thachair san amharc </s> \nprobability of:  7.69054426851154e-08\n\n\n\n<s> agus thill i </s> \nprobability of:  7.580318037443471e-06\n\n\n\n<s> Dh’ èirich a’ bhian bhriagha uileag a' ciallachadh am [Placename] an-dràsda </s> \nprobability of:  1.9250858324808125e-18\n\n\n\n<s> tha thu breac </s> \nprobability of:  1.1550787686098898e-06\n\n\n\n"
     ]
    }
   ],
   "source": [
    "bigram_sentences = []\n",
    "\n",
    "#generate the sentences\n",
    "for i in range(0,num_sentences):\n",
    "    test, probability = ngram_random_sentence(bigram_model, [\"<s>\"])\n",
    "\n",
    "    bigram_sentences.append((test,probability))\n",
    "\n",
    "print_sentences(bigram_sentences)"
   ]
  },
  {
   "cell_type": "code",
   "execution_count": 14,
   "metadata": {},
   "outputs": [],
   "source": [
    "trigram_model = train_ngram(trigrams)"
   ]
  },
  {
   "cell_type": "code",
   "execution_count": 15,
   "metadata": {},
   "outputs": [
    {
     "output_type": "stream",
     "name": "stdout",
     "text": [
      "<s> <s> [5] an robh buntanas ris an traidisean agus comhdheilbh sòichealach àraidh . </s> \nprobability of:  4.536765073093456e-09\n\n\n\n<s> <s> Cha b’ e Pòsadh Fiollagain bu choireach </s> \nprobability of:  4.369120801821048e-06\n\n\n\n<s> <s> [1] 's tha an tràchdas </s> \nprobability of:  2.100538847029351e-08\n\n\n\n<s> <s> chan fheumadh uill mòr gun teagamh as fhearr a chòrdadh ri gillean </s> \nprobability of:  1.7377185007242808e-07\n\n\n\n<s> <s> Dh’ fheuch e airson </s> \nprobability of:  1.6384203006828934e-06\n\n\n\n<s> <s> is thuig iad </s> \nprobability of:  9.175153683824204e-05\n\n\n\n<s> <s> Chaidh aontachadh cuideachd </s> \nprobability of:  9.175153683824204e-05\n\n\n\n<s> <s> tha ga dhèanamh air . \" </s> \nprobability of:  8.613290300473664e-09\n\n\n\n<s> <s> far 'eil àsan </s> \nprobability of:  9.175153683824204e-05\n\n\n\n<s> <s> Chaidh Amanda Lynne - aois dà fhichead sa trì - as fhaide air_falbh bhon a’ phàpa </s> \nprobability of:  2.3526035086728732e-08\n\n\n\n"
     ]
    }
   ],
   "source": [
    "trigram_sentences = []\n",
    "\n",
    "#generate the sentences\n",
    "for i in range(0,num_sentences):\n",
    "    test, probability = ngram_random_sentence(trigram_model, [\"<s>\",\"<s>\"])\n",
    "\n",
    "    trigram_sentences.append((test,probability))\n",
    "\n",
    "print_sentences(trigram_sentences)"
   ]
  },
  {
   "source": [
    "# Smoothed Models"
   ],
   "cell_type": "markdown",
   "metadata": {}
  },
  {
   "cell_type": "code",
   "execution_count": 16,
   "metadata": {},
   "outputs": [
    {
     "output_type": "stream",
     "name": "stdout",
     "text": [
      "<s> [3] ach bha e neònach </s>\n<s> nach do test iad na [?] leis a' vet - </s>\n<s> cha robh duine airson an ceannach </s>\n<s> nan robh [?] na laoigh annta </s>\n<s> [1] cha robh còir aca an robh idir na <UNK> a leigeil cuide riutha co-dhiubh </s>\n<s> bha a' chuid a b' fhearr an dà <UNK> air an cumail ann_an <UNK> </s>\n<s> cupa math tea eh ? </s>\n<s> [2] àidh , bha mi ' fàs gu math <UNK> a's a' chàr </s>\n<s> [1] tha an t- astar gu math fada suas a-siud </s>\n<s> <UNK> suas 's sìos </s>\n"
     ]
    }
   ],
   "source": [
    "#TODO: replace all the low-frequent words in the training data with the token <UNK>.\n",
    "# the rest will be similar to the part right preceeding part 1. \n",
    "# also report the size of the vocabulary and set the value of lambda to prepare for add-lambda smoothing. \n",
    "lambda_value = 0.00001\n",
    "\n",
    "def replace_low_freq(sentence):\n",
    "    low_freq = 1\n",
    "\n",
    "    words_UNK = [word if unigram_fdist[word] > low_freq else \"<UNK>\" for word in sentence]\n",
    "  \n",
    "    return \" \".join(words_UNK)\n",
    "\n",
    "sentences_UNK = [replace_low_freq(sent) for sent in sentences]\n",
    "\n",
    "for sent in sentences_UNK[0:10]:\n",
    "    print(sent, end=\"\\n\")\n",
    "\n",
    "\n",
    "def train_ngram_smoothed(ngrams, vocab):\n",
    "    model = defaultdict(lambda: defaultdict(lambda: 0))\n",
    "\n",
    "    # vocab = len(set(ngrams)) # make vocab number of N-1 grams\n",
    "\n",
    "    for ng in ngrams:\n",
    "        model[ng[:-1]][ng[-1]] += 1  # [(w1, w2, ... , wn-1)][wn]\n",
    "    \n",
    "    total_count = 0      \n",
    "    for hist in model: # hist = (w1, w2, ... , wn-1)\n",
    "        total_count = float(sum(model[hist].values()))\n",
    "        # if \"<UNK>\" in hist:\n",
    "        #     total_count = 0\n",
    "        for w in model[hist]: # w = wn\n",
    "            count = model[hist][w]\n",
    "            # if w == \"<UNK>\":\n",
    "            #     count = 0\n",
    "            model[hist][w] = (count + lambda_value)/(total_count + lambda_value * vocab)\n",
    "    \n",
    "    return model"
   ]
  },
  {
   "cell_type": "code",
   "execution_count": 17,
   "metadata": {},
   "outputs": [],
   "source": [
    "#Todo: extract the smoothed unigram model. same as part 1.1 except for the smoothed probability\n",
    "unigrams_UNK = [ug for sent in sentences_UNK for ug in sent.split()]\n",
    "unigrams_count_UNK = len(unigrams_UNK)\n",
    "unigrams_UNK_vocab = len(set(unigrams_UNK))\n",
    "\n",
    "unigram_fdist_UNK = nltk.FreqDist(unigrams_UNK)\n",
    "\n",
    "unigram_model_smoothed = {}\n",
    "for ug, freq in unigram_fdist_UNK.most_common(200): \n",
    "    if ug == \"<UNK>\":\n",
    "        freq = 0\n",
    "    \n",
    "    unigram_model_smoothed[ug] = (freq + lambda_value)/(unigrams_count_UNK + lambda_value * unigrams_UNK_vocab)"
   ]
  },
  {
   "cell_type": "code",
   "execution_count": 18,
   "metadata": {},
   "outputs": [],
   "source": [
    "#Todo: extract the smoothed bigram model. same as part 1.2 except for the smoothed probability\n",
    "\n",
    "bigrams_UNK = [bg for sent in sentences_UNK for bg in nltk.bigrams(sent.split())]\n",
    "bigrams_UNK_vocab = len(set(bigrams_UNK))\n",
    "\n",
    "bigram_model_smoothed = train_ngram_smoothed(bigrams_UNK,unigrams_UNK_vocab)"
   ]
  },
  {
   "cell_type": "code",
   "execution_count": 19,
   "metadata": {},
   "outputs": [],
   "source": [
    "#Todo: extract the smoothed trigram model, same as part 1.3 except for the smoothed probability\n",
    "\n",
    "#re-padding each sentence with <s><s> at the beginning \n",
    "#that is, append extra <s> to the beginning of each sentence\n",
    "\n",
    "trigrams_UNK = [tg for sent in sentences_UNK for tg in nltk.trigrams([\"<s>\"] + sent.split())]\n",
    "trigrams_UNK_vocab = len(set(bigrams_UNK))\n",
    "\n",
    "trigram_model_smoothed = train_ngram_smoothed(trigrams_UNK,bigrams_UNK_vocab)"
   ]
  },
  {
   "cell_type": "code",
   "execution_count": 20,
   "metadata": {},
   "outputs": [
    {
     "output_type": "stream",
     "name": "stdout",
     "text": [
      "<s> t- ars’ bu dhen Ach 'na leth ann_an 's chionn sa no cho ò eile iad anns fhalbh chaidh dìreach mun mi thoirt a-staigh leis robh gun deach do sam_bith </s> \nprobability of:  2.0239588943808984e-87\n\n\n\n<s> ’s deug gun tha sibh is [5] thàinig thuirt [Placename] aige mòr [3] ga ann_am a ann thàinig aig dè thug ise ' siud taobh coimhead sìos [?] bho an </s> \nprobability of:  7.643497253493043e-86\n\n\n\n<s> tha coimhead chan [4] ma-thà son e chionn feuchainn i \" anns biodh ise àite sinn Chaidh ? mi an [5] sibh [3] fhios eile bho ise anns a-staigh - </s> \nprobability of:  1.041783391170368e-84\n\n\n\n<s> aca nach nas cha bliadhna [3] a' bu ri dhan latha suas a-mach a-staigh rinn taobh ais bh' air do dè feuchainn tu cho ma dhe ag th' nam sibh </s> \nprobability of:  6.815349751995302e-87\n\n\n\n<s> as a_h-uile t- bhios feuchainn 'ga nach nuair ann_am 's bhith sibh - [?] 'se ò am leis againn dèanamh do cho dol a's Ach àite no ri às uill </s> \nprobability of:  1.3753588455292897e-87\n\n\n\n<s> [2] an ò ruith de bheil rinn uill dh' mi chuir na sinn ann ach agad aca dòcha sin is am ann_an fhuair Cha ais Cha fhalbh bh' dhe seachad </s> \nprobability of:  5.929504594677274e-85\n\n\n\n<s> ann_an is robh th' a-staigh bha thoirt thuirt faighinn <UNK> iad bh' 's ' as chionn , cuideachd sin latha cò biodh co-dhiubh Tha gun th' agad ruith trì 'se </s> \nprobability of:  2.0077330336764886e-92\n\n\n\n<s> agad trì toirt ma thoirt seachad 'n h- duine sinn chionn chan Chaidh [3] dhan thall suas , no a còmhla Ach Agus far uill ann_an eadar toirt air a_h-uile </s> \nprobability of:  5.820553787666461e-88\n\n\n\n<s> leth anns an bliadhna ri bhios i thàinig leis o ' aige bha Ach suas dhen deug </s> \nprobability of:  2.331984829040292e-50\n\n\n\n<s> dè \" ag cha sìos ach thàinig ràdh bheil chionn às gu sin ; nach , a's chur Chaidh am bhiodh [1] mu mun còmhla seo a’ [Placename] nach ? </s> \nprobability of:  2.6884275084288173e-83\n\n\n\n"
     ]
    }
   ],
   "source": [
    "unigram_sentences = []\n",
    "\n",
    "#generate the sentences\n",
    "for index in range(0,num_sentences):\n",
    "    test, probability = unigram_random_sentence(unigram_model_smoothed)\n",
    "\n",
    "    unigram_sentences.append((test,probability))\n",
    "    \n",
    "#TODO: generate 10 sentences using the smoothed unigram model. Suppose maximum sentence length = 30\n",
    "    \n",
    "print_sentences(unigram_sentences)"
   ]
  },
  {
   "cell_type": "code",
   "execution_count": 21,
   "metadata": {},
   "outputs": [
    {
     "output_type": "stream",
     "name": "stdout",
     "text": [
      "<s> “ A' cur cabhaig iad iad </s> \nprobability of:  1.1245381155099387e-11\n\n\n\n<s> thàinig [Name] a_h-uile tè an-diugh neo an-dé </s> \nprobability of:  4.611843013514056e-15\n\n\n\n<s> dè hearing </s> \nprobability of:  1.8469850987308336e-05\n\n\n\n<s> ach siud às . \" Ged nach do dhealaich </s> \nprobability of:  1.7364110369337176e-16\n\n\n\n<s> Chaidh fàgail </s> \nprobability of:  2.1097760398403164e-05\n\n\n\n<s> bidh feadhainn na Lappaich , a' fàs gu leth Albainn faodaidh mi smaoineachadh , </s> \nprobability of:  5.810969138787631e-25\n\n\n\n<s> dè leabaidh . 'S deagh fheum a bharrachd feum beagan dhaoine a thogail . ' glosaidh </s> \nprobability of:  1.3983128156157328e-30\n\n\n\n<s> bha ise is a’ mhìos </s> \nprobability of:  3.068808235320813e-12\n\n\n\n<s> [3] cha do choisich iad e na tha </s> \nprobability of:  7.545379838508152e-15\n\n\n\n<s> chan fheum iad an_seo fadachd air chall an còrr aca co-dhiubh cha mhair an cuid chloinne anns gach sgillinn dhen Ghàidhlig a thigeadh anail a-mach fearann . Is fhada nis </s> \nprobability of:  4.6164956862815465e-50\n\n\n\n"
     ]
    }
   ],
   "source": [
    "bigram_sentences = []\n",
    "\n",
    "#generate the sentences\n",
    "for i in range(0,num_sentences):\n",
    "    test, probability = ngram_random_sentence(bigram_model_smoothed, [\"<s>\"])\n",
    "\n",
    "    bigram_sentences.append((test,probability))\n",
    "\n",
    "#ToDo: generate 10 sentences using the smoothed bigram model. Suppse maximum sentence length = 30\n",
    "\n",
    "print_sentences(bigram_sentences)"
   ]
  },
  {
   "cell_type": "code",
   "execution_count": 22,
   "metadata": {},
   "outputs": [
    {
     "output_type": "stream",
     "name": "stdout",
     "text": [
      "<s> <s> agus bha a_h-uile neach </s> \n",
      "probability of:  8.950264677106227e-06\n",
      "\n",
      "\n",
      "\n",
      "<s> <s> gun dh’ iarr Fionn orra a' lorg a leantainn </s> \n",
      "probability of:  1.049367583821434e-06\n",
      "\n",
      "\n",
      "\n",
      "<s> <s> bidh e agaibh tha mi creidsinn le a cheann rithe </s> \n",
      "probability of:  1.1354989630120756e-09\n",
      "\n",
      "\n",
      "\n",
      "<s> <s> gu faic daoine tòrr a chluinntinn a-staigh 'san taigh , </s> \n",
      "probability of:  4.3885917772340603e-07\n",
      "\n",
      "\n",
      "\n",
      "<s> <s> nach bi ro fhada </s> \n",
      "probability of:  1.2461436577841353e-05\n",
      "\n",
      "\n",
      "\n",
      "<s> <s> gur docha </s> \n",
      "probability of:  6.80903189518483e-05\n",
      "\n",
      "\n",
      "\n",
      "<s> <s> air toll </s> \n",
      "probability of:  3.88581300247272e-05\n",
      "\n",
      "\n",
      "\n",
      "<s> <s> is cha luaithe sin </s> \n",
      "probability of:  4.863304869401547e-05\n",
      "\n",
      "\n",
      "\n",
      "<s> <s> 'S cha robh control aig [Name] an gille dhachaidh </s> \n",
      "probability of:  7.540248662355923e-10\n",
      "\n",
      "\n",
      "\n",
      "<s> <s> is bha e cianail </s> \n",
      "probability of:  1.6355596309451576e-07\n",
      "\n",
      "\n",
      "\n"
     ]
    }
   ],
   "source": [
    "trigram_sentences = []\n",
    "\n",
    "#generate the sentences\n",
    "for i in range(0,num_sentences):\n",
    "    test, probability = ngram_random_sentence(trigram_model_smoothed, [\"<s>\",\"<s>\"])\n",
    "\n",
    "    trigram_sentences.append((test,probability))\n",
    "\n",
    "#ToDo: generate 10 sentences using the smoothed trigram model. Suppse maximum sentence length = 30\n",
    "    \n",
    "print_sentences(trigram_sentences)"
   ]
  },
  {
   "source": [
    "# Most Probable Sentences"
   ],
   "cell_type": "markdown",
   "metadata": {}
  },
  {
   "cell_type": "code",
   "execution_count": 23,
   "metadata": {},
   "outputs": [],
   "source": [
    "def print_sentences_joined(sent_list):\n",
    "    for sent, prob in sent_list:\n",
    "        print(sent)\n",
    "        print(\"probability of: \", prob)\n",
    "        print(\"\\n\\n\")"
   ]
  },
  {
   "cell_type": "code",
   "execution_count": 24,
   "metadata": {},
   "outputs": [
    {
     "output_type": "stream",
     "name": "stdout",
     "text": [
      "<s> a bha e </s>\nprobability of:  0.00016615711334258358\n\n\n\n<s> a tha e </s>\nprobability of:  0.00014759279009689586\n\n\n\n<s> a bha iad </s>\nprobability of:  0.00012441214043736523\n\n\n\n<s> agus tha e </s>\nprobability of:  0.00010214525599508602\n\n\n\n<s> a tha mi </s>\nprobability of:  9.101402220723725e-05\n\n\n\n<s> agus tha mi </s>\nprobability of:  6.298851448907068e-05\n\n\n\n<s> agus bha e </s>\nprobability of:  4.116628423583211e-05\n\n\n\n<s> agus bha iad </s>\nprobability of:  3.08237512833599e-05\n\n\n\n<s> agus 's e </s>\nprobability of:  3.076998370482919e-05\n\n\n\n<s> agus 's a bha e </s>\nprobability of:  3.3493079992561964e-07\n\n\n\n"
     ]
    }
   ],
   "source": [
    "bigram_sentences = []\n",
    "\n",
    "#generate the sentences\n",
    "for i in range(0,10000):\n",
    "    test, probability = ngram_random_sentence(bigram_model_smoothed, [\"<s>\"],n=2)\n",
    "\n",
    "    bigram_sentences.append((test,probability))\n",
    "\n",
    "\n",
    "bigram_sentences = [(\" \".join(words), prob) for words, prob in bigram_sentences]\n",
    "bigram_sentences_most_probable = heapq.nlargest(num_sentences, set(bigram_sentences), key=operator.itemgetter(1))\n",
    "    \n",
    "print_sentences_joined(bigram_sentences_most_probable)"
   ]
  },
  {
   "cell_type": "code",
   "execution_count": 25,
   "metadata": {},
   "outputs": [
    {
     "output_type": "stream",
     "name": "stdout",
     "text": [
      "<s> <s> agus tha mi a' smaoineachadh </s>\nprobability of:  0.0001989161625325974\n\n\n\n<s> <s> agus tha mi a' creidsinn </s>\nprobability of:  0.00012305711304549973\n\n\n\n<s> <s> a tha an rèitire ag ràdh </s>\nprobability of:  7.681229011733656e-05\n\n\n\n<s> <s> agus tha mi ' creidsinn </s>\nprobability of:  5.4829261985709114e-05\n\n\n\n<s> <s> a bha iad ag ràdh </s>\nprobability of:  3.458942907572759e-05\n\n\n\n<s> <s> agus tha mi ' smaoineachadh </s>\nprobability of:  2.1931752312912793e-05\n\n\n\n<s> <s> a tha a' dol dha gabhail </s>\nprobability of:  1.4167332522354539e-05\n\n\n\n<s> <s> agus bha iad ag ràdh </s>\nprobability of:  1.3524907069541053e-05\n\n\n\n<s> <s> agus tha mi a' smaoineachadh [?] </s>\nprobability of:  1.212691073887105e-05\n\n\n\n<s> <s> a tha an rèitire ag ràdh ; </s>\nprobability of:  4.6075393767911364e-06\n\n\n\n"
     ]
    }
   ],
   "source": [
    "trigram_sentences = []\n",
    "\n",
    "#generate the sentences\n",
    "for i in range(0,10000):\n",
    "    test, probability = ngram_random_sentence(trigram_model_smoothed, [\"<s>\",\"<s>\"],n=2)\n",
    "\n",
    "    trigram_sentences.append((test,probability))\n",
    "\n",
    "\n",
    "trigram_sentences = [(\" \".join(words), prob) for words, prob in trigram_sentences]\n",
    "trigram_sentences_most_probable = heapq.nlargest(num_sentences, set(trigram_sentences), key=operator.itemgetter(1))\n",
    "    \n",
    "print_sentences_joined(trigram_sentences_most_probable)"
   ]
  },
  {
   "cell_type": "code",
   "execution_count": 26,
   "metadata": {},
   "outputs": [
    {
     "output_type": "stream",
     "name": "stdout",
     "text": [
      "[('e', 0.0819302339746966), ('an', 0.07562791070830581), ('na', 0.05041861764274266), ('seo', 0.04096513274315647)]\n"
     ]
    }
   ],
   "source": [
    "most_probable = heapq.nlargest(5, trigram_model_smoothed[('<s>','Tha')].items(), key=operator.itemgetter(1))\n",
    "\n",
    "most_probable = [w for w in most_probable if w[0] != '<UNK>']\n",
    "print(most_probable)"
   ]
  },
  {
   "cell_type": "code",
   "execution_count": 27,
   "metadata": {},
   "outputs": [
    {
     "output_type": "stream",
     "name": "stdout",
     "text": [
      "[('t-', 0.15184170238417447), ('dà', 0.11388137168895761), ('searg', 0.07592104099374072), ('gluasad', 0.03796071029852384)]\n"
     ]
    }
   ],
   "source": [
    "most_probable = heapq.nlargest(5, trigram_model_smoothed[('Tha', 'an')].items(), key=operator.itemgetter(1))\n",
    "\n",
    "most_probable = [w for w in most_probable if w[0] != '<UNK>']\n",
    "print(most_probable)"
   ]
  },
  {
   "cell_type": "code",
   "execution_count": 28,
   "metadata": {},
   "outputs": [
    {
     "output_type": "stream",
     "name": "stdout",
     "text": [
      "[('àite', 0.042491162590613904), ('seachdainn', 0.042491162590613904), ('saoghail', 0.042491162590613904), ('ainm', 0.03824205058066452)]\n"
     ]
    }
   ],
   "source": [
    "most_probable = heapq.nlargest(5, trigram_model_smoothed[('an','t-')].items(), key=operator.itemgetter(1))\n",
    "\n",
    "most_probable = [w for w in most_probable if w[0] != '<UNK>']\n",
    "print(most_probable)"
   ]
  },
  {
   "cell_type": "code",
   "execution_count": 29,
   "metadata": {},
   "outputs": [
    {
     "output_type": "stream",
     "name": "stdout",
     "text": [
      "[('</s>', 0.40507919687538735), ('glan', 0.08101648750049623), ('mòr', 0.08101648750049623), ('am', 0.08101648750049623), ('na', 0.08101648750049623)]\n"
     ]
    }
   ],
   "source": [
    "most_probable = heapq.nlargest(5, trigram_model_smoothed[('t-','àite')].items(), key=operator.itemgetter(1))\n",
    "\n",
    "most_probable = [w for w in most_probable if w[0] != '<UNK>']\n",
    "print(most_probable)"
   ]
  },
  {
   "cell_type": "code",
   "execution_count": 30,
   "metadata": {},
   "outputs": [
    {
     "output_type": "stream",
     "name": "stdout",
     "text": [
      "[('ùr', 0.42675469105403085), ('a', 0.42675469105403085)]\n"
     ]
    }
   ],
   "source": [
    "most_probable = heapq.nlargest(5, trigram_model_smoothed[('àite','mòr')].items(), key=operator.itemgetter(1))\n",
    "\n",
    "most_probable = [w for w in most_probable if w[0] != '<UNK>']\n",
    "print(most_probable)"
   ]
  },
  {
   "source": [
    "## Dè test"
   ],
   "cell_type": "markdown",
   "metadata": {}
  },
  {
   "cell_type": "code",
   "execution_count": 31,
   "metadata": {},
   "outputs": [
    {
     "output_type": "stream",
     "name": "stdout",
     "text": [
      "[('do', 0.29910955974504155), ('am', 0.29910955974504155), ('fon', 0.29910955974504155)]\n"
     ]
    }
   ],
   "source": [
    "most_probable = heapq.nlargest(5, trigram_model_smoothed[('<s>','Dè')].items(), key=operator.itemgetter(1))\n",
    "\n",
    "most_probable = [w for w in most_probable if w[0] != '<UNK>']\n",
    "print(most_probable)"
   ]
  }
 ]
}